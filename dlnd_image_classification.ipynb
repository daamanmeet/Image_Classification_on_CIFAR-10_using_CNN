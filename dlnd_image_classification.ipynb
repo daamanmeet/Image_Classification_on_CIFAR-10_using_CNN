{
 "cells": [
  {
   "cell_type": "markdown",
   "metadata": {
    "collapsed": true,
    "deletable": true,
    "editable": true
   },
   "source": [
    "# Image Classification\n",
    "In this project, you'll classify images from the [CIFAR-10 dataset](https://www.cs.toronto.edu/~kriz/cifar.html).  The dataset consists of airplanes, dogs, cats, and other objects. You'll preprocess the images, then train a convolutional neural network on all the samples. The images need to be normalized and the labels need to be one-hot encoded.  You'll get to apply what you learned and build a convolutional, max pooling, dropout, and fully connected layers.  At the end, you'll get to see your neural network's predictions on the sample images.\n",
    "## Get the Data\n",
    "Run the following cell to download the [CIFAR-10 dataset for python](https://www.cs.toronto.edu/~kriz/cifar-10-python.tar.gz)."
   ]
  },
  {
   "cell_type": "code",
   "execution_count": 1,
   "metadata": {
    "collapsed": false,
    "deletable": true,
    "editable": true
   },
   "outputs": [
    {
     "name": "stdout",
     "output_type": "stream",
     "text": [
      "All files found!\n"
     ]
    }
   ],
   "source": [
    "\"\"\"\n",
    "DON'T MODIFY ANYTHING IN THIS CELL THAT IS BELOW THIS LINE\n",
    "\"\"\"\n",
    "from urllib.request import urlretrieve\n",
    "from os.path import isfile, isdir\n",
    "from tqdm import tqdm\n",
    "import problem_unittests as tests\n",
    "import tarfile\n",
    "\n",
    "cifar10_dataset_folder_path = 'cifar-10-batches-py'\n",
    "\n",
    "# Use Floyd's cifar-10 dataset if present\n",
    "floyd_cifar10_location = '/input/cifar-10/python.tar.gz'\n",
    "if isfile(floyd_cifar10_location):\n",
    "    tar_gz_path = floyd_cifar10_location\n",
    "else:\n",
    "    tar_gz_path = 'cifar-10-python.tar.gz'\n",
    "\n",
    "class DLProgress(tqdm):\n",
    "    last_block = 0\n",
    "\n",
    "    def hook(self, block_num=1, block_size=1, total_size=None):\n",
    "        self.total = total_size\n",
    "        self.update((block_num - self.last_block) * block_size)\n",
    "        self.last_block = block_num\n",
    "\n",
    "if not isfile(tar_gz_path):\n",
    "    with DLProgress(unit='B', unit_scale=True, miniters=1, desc='CIFAR-10 Dataset') as pbar:\n",
    "        urlretrieve(\n",
    "            'https://www.cs.toronto.edu/~kriz/cifar-10-python.tar.gz',\n",
    "            tar_gz_path,\n",
    "            pbar.hook)\n",
    "\n",
    "if not isdir(cifar10_dataset_folder_path):\n",
    "    with tarfile.open(tar_gz_path) as tar:\n",
    "        tar.extractall()\n",
    "        tar.close()\n",
    "\n",
    "\n",
    "tests.test_folder_path(cifar10_dataset_folder_path)"
   ]
  },
  {
   "cell_type": "markdown",
   "metadata": {
    "deletable": true,
    "editable": true
   },
   "source": [
    "## Explore the Data\n",
    "The dataset is broken into batches to prevent your machine from running out of memory.  The CIFAR-10 dataset consists of 5 batches, named `data_batch_1`, `data_batch_2`, etc.. Each batch contains the labels and images that are one of the following:\n",
    "* airplane\n",
    "* automobile\n",
    "* bird\n",
    "* cat\n",
    "* deer\n",
    "* dog\n",
    "* frog\n",
    "* horse\n",
    "* ship\n",
    "* truck\n",
    "\n",
    "Understanding a dataset is part of making predictions on the data.  Play around with the code cell below by changing the `batch_id` and `sample_id`. The `batch_id` is the id for a batch (1-5). The `sample_id` is the id for a image and label pair in the batch.\n",
    "\n",
    "Ask yourself \"What are all possible labels?\", \"What is the range of values for the image data?\", \"Are the labels in order or random?\".  Answers to questions like these will help you preprocess the data and end up with better predictions."
   ]
  },
  {
   "cell_type": "code",
   "execution_count": 2,
   "metadata": {
    "collapsed": false,
    "deletable": true,
    "editable": true
   },
   "outputs": [
    {
     "name": "stdout",
     "output_type": "stream",
     "text": [
      "\n",
      "Stats of batch 1:\n",
      "Samples: 10000\n",
      "Label Counts: {0: 1005, 1: 974, 2: 1032, 3: 1016, 4: 999, 5: 937, 6: 1030, 7: 1001, 8: 1025, 9: 981}\n",
      "First 20 Labels: [6, 9, 9, 4, 1, 1, 2, 7, 8, 3, 4, 7, 7, 2, 9, 9, 9, 3, 2, 6]\n",
      "\n",
      "Example of Image 5:\n",
      "Image - Min Value: 0 Max Value: 252\n",
      "Image - Shape: (32, 32, 3)\n",
      "Label - Label Id: 1 Name: automobile\n"
     ]
    },
    {
     "data": {
      "image/png": "[encoded data removed]",
      "text/plain": [
       "<matplotlib.figure.Figure at 0x7f8ec9551940>"
      ]
     },
     "metadata": {
      "image/png": {
       "height": 250,
       "width": 253
      }
     },
     "output_type": "display_data"
    }
   ],
   "source": [
    "%matplotlib inline\n",
    "%config InlineBackend.figure_format = 'retina'\n",
    "\n",
    "import helper\n",
    "import numpy as np\n",
    "\n",
    "# Explore the dataset\n",
    "batch_id = 1\n",
    "sample_id = 5\n",
    "helper.display_stats(cifar10_dataset_folder_path, batch_id, sample_id)"
   ]
  },
  {
   "cell_type": "markdown",
   "metadata": {
    "deletable": true,
    "editable": true
   },
   "source": [
    "## Implement Preprocess Functions\n",
    "### Normalize\n",
    "In the cell below, implement the `normalize` function to take in image data, `x`, and return it as a normalized Numpy array. The values should be in the range of 0 to 1, inclusive.  The return object should be the same shape as `x`."
   ]
  },
  {
   "cell_type": "code",
   "execution_count": 3,
   "metadata": {
    "collapsed": false,
    "deletable": true,
    "editable": true
   },
   "outputs": [
    {
     "name": "stdout",
     "output_type": "stream",
     "text": [
      "Tests Passed\n"
     ]
    }
   ],
   "source": [
    "def normalize(x):\n",
    "    \"\"\"\n",
    "    Normalize a list of sample image data in the range of 0 to 1\n",
    "    : x: List of image data.  The image shape is (32, 32, 3)\n",
    "    : return: Numpy array of normalize data\n",
    "    \"\"\"\n",
    "    # TODO: Implement Function\n",
    "    return np.array(x/255)\n",
    "\n",
    "\n",
    "\"\"\"\n",
    "DON'T MODIFY ANYTHING IN THIS CELL THAT IS BELOW THIS LINE\n",
    "\"\"\"\n",
    "tests.test_normalize(normalize)"
   ]
  },
  {
   "cell_type": "markdown",
   "metadata": {
    "deletable": true,
    "editable": true
   },
   "source": [
    "### One-hot encode\n",
    "Just like the previous code cell, you'll be implementing a function for preprocessing.  This time, you'll implement the `one_hot_encode` function. The input, `x`, are a list of labels.  Implement the function to return the list of labels as One-Hot encoded Numpy array.  The possible values for labels are 0 to 9. The one-hot encoding function should return the same encoding for each value between each call to `one_hot_encode`.  Make sure to save the map of encodings outside the function.\n",
    "\n",
    "Hint: Don't reinvent the wheel."
   ]
  },
  {
   "cell_type": "code",
   "execution_count": 4,
   "metadata": {
    "collapsed": false,
    "deletable": true,
    "editable": true
   },
   "outputs": [
    {
     "name": "stdout",
     "output_type": "stream",
     "text": [
      "Tests Passed\n"
     ]
    }
   ],
   "source": [
    "def one_hot_encode(x):\n",
    "    \"\"\"\n",
    "    One hot encode a list of sample labels. Return a one-hot encoded vector for each label.\n",
    "    : x: List of sample Labels\n",
    "    : return: Numpy array of one-hot encoded labels\n",
    "    \"\"\"\n",
    "    # TODO: Implement Function\n",
    "    return np.eye(10)[x]\n",
    "\n",
    "\n",
    "\"\"\"\n",
    "DON'T MODIFY ANYTHING IN THIS CELL THAT IS BELOW THIS LINE\n",
    "\"\"\"\n",
    "tests.test_one_hot_encode(one_hot_encode)"
   ]
  },
  {
   "cell_type": "markdown",
   "metadata": {
    "deletable": true,
    "editable": true
   },
   "source": [
    "### Randomize Data\n",
    "As you saw from exploring the data above, the order of the samples are randomized.  It doesn't hurt to randomize it again, but you don't need to for this dataset."
   ]
  },
  {
   "cell_type": "markdown",
   "metadata": {
    "deletable": true,
    "editable": true
   },
   "source": [
    "## Preprocess all the data and save it\n",
    "Running the code cell below will preprocess all the CIFAR-10 data and save it to file. The code below also uses 10% of the training data for validation."
   ]
  },
  {
   "cell_type": "code",
   "execution_count": 5,
   "metadata": {
    "collapsed": false,
    "deletable": true,
    "editable": true
   },
   "outputs": [],
   "source": [
    "\"\"\"\n",
    "DON'T MODIFY ANYTHING IN THIS CELL\n",
    "\"\"\"\n",
    "# Preprocess Training, Validation, and Testing Data\n",
    "helper.preprocess_and_save_data(cifar10_dataset_folder_path, normalize, one_hot_encode)"
   ]
  },
  {
   "cell_type": "markdown",
   "metadata": {
    "deletable": true,
    "editable": true
   },
   "source": [
    "# Check Point\n",
    "This is your first checkpoint.  If you ever decide to come back to this notebook or have to restart the notebook, you can start from here.  The preprocessed data has been saved to disk."
   ]
  },
  {
   "cell_type": "code",
   "execution_count": 6,
   "metadata": {
    "collapsed": true,
    "deletable": true,
    "editable": true
   },
   "outputs": [],
   "source": [
    "\"\"\"\n",
    "DON'T MODIFY ANYTHING IN THIS CELL\n",
    "\"\"\"\n",
    "import pickle\n",
    "import problem_unittests as tests\n",
    "import helper\n",
    "\n",
    "# Load the Preprocessed Validation data\n",
    "valid_features, valid_labels = pickle.load(open('preprocess_validation.p', mode='rb'))"
   ]
  },
  {
   "cell_type": "markdown",
   "metadata": {
    "deletable": true,
    "editable": true
   },
   "source": [
    "## Build the network\n",
    "For the neural network, you'll build each layer into a function.  Most of the code you've seen has been outside of functions. To test your code more thoroughly, we require that you put each layer in a function.  This allows us to give you better feedback and test for simple mistakes using our unittests before you submit your project.\n",
    "\n",
    ">**Note:** If you're finding it hard to dedicate enough time for this course each week, we've provided a small shortcut to this part of the project. In the next couple of problems, you'll have the option to use classes from the [TensorFlow Layers](https://www.tensorflow.org/api_docs/python/tf/layers) or [TensorFlow Layers (contrib)](https://www.tensorflow.org/api_guides/python/contrib.layers) packages to build each layer, except the layers you build in the \"Convolutional and Max Pooling Layer\" section.  TF Layers is similar to Keras's and TFLearn's abstraction to layers, so it's easy to pickup.\n",
    "\n",
    ">However, if you would like to get the most out of this course, try to solve all the problems _without_ using anything from the TF Layers packages. You **can** still use classes from other packages that happen to have the same name as ones you find in TF Layers! For example, instead of using the TF Layers version of the `conv2d` class, [tf.layers.conv2d](https://www.tensorflow.org/api_docs/python/tf/layers/conv2d), you would want to use the TF Neural Network version of `conv2d`, [tf.nn.conv2d](https://www.tensorflow.org/api_docs/python/tf/nn/conv2d). \n",
    "\n",
    "Let's begin!\n",
    "\n",
    "### Input\n",
    "The neural network needs to read the image data, one-hot encoded labels, and dropout keep probability. Implement the following functions\n",
    "* Implement `neural_net_image_input`\n",
    " * Return a [TF Placeholder](https://www.tensorflow.org/api_docs/python/tf/placeholder)\n",
    " * Set the shape using `image_shape` with batch size set to `None`.\n",
    " * Name the TensorFlow placeholder \"x\" using the TensorFlow `name` parameter in the [TF Placeholder](https://www.tensorflow.org/api_docs/python/tf/placeholder).\n",
    "* Implement `neural_net_label_input`\n",
    " * Return a [TF Placeholder](https://www.tensorflow.org/api_docs/python/tf/placeholder)\n",
    " * Set the shape using `n_classes` with batch size set to `None`.\n",
    " * Name the TensorFlow placeholder \"y\" using the TensorFlow `name` parameter in the [TF Placeholder](https://www.tensorflow.org/api_docs/python/tf/placeholder).\n",
    "* Implement `neural_net_keep_prob_input`\n",
    " * Return a [TF Placeholder](https://www.tensorflow.org/api_docs/python/tf/placeholder) for dropout keep probability.\n",
    " * Name the TensorFlow placeholder \"keep_prob\" using the TensorFlow `name` parameter in the [TF Placeholder](https://www.tensorflow.org/api_docs/python/tf/placeholder).\n",
    "\n",
    "These names will be used at the end of the project to load your saved model.\n",
    "\n",
    "Note: `None` for shapes in TensorFlow allow for a dynamic size."
   ]
  },
  {
   "cell_type": "code",
   "execution_count": 7,
   "metadata": {
    "collapsed": false,
    "deletable": true,
    "editable": true
   },
   "outputs": [
    {
     "name": "stdout",
     "output_type": "stream",
     "text": [
      "Image Input Tests Passed.\n",
      "Label Input Tests Passed.\n",
      "Keep Prob Tests Passed.\n"
     ]
    }
   ],
   "source": [
    "import tensorflow as tf\n",
    "\n",
    "def neural_net_image_input(image_shape):\n",
    "    \"\"\"\n",
    "    Return a Tensor for a bach of image input\n",
    "    : image_shape: Shape of the images\n",
    "    : return: Tensor for image input.\n",
    "    \"\"\"\n",
    "    # TODO: Implement Function\n",
    "    return tf.placeholder(tf.float32, shape=[None,image_shape[0],image_shape[1],image_shape[2]],name = 'x')\n",
    "\n",
    "\n",
    "def neural_net_label_input(n_classes):\n",
    "    \"\"\"\n",
    "    Return a Tensor for a batch of label input\n",
    "    : n_classes: Number of classes\n",
    "    : return: Tensor for label input.\n",
    "    \"\"\"\n",
    "    # TODO: Implement Function\n",
    "    return tf.placeholder(tf.float32, shape=[None,n_classes], name = 'y')\n",
    "\n",
    "\n",
    "def neural_net_keep_prob_input():\n",
    "    \"\"\"\n",
    "    Return a Tensor for keep probability\n",
    "    : return: Tensor for keep probability.\n",
    "    \"\"\"\n",
    "    # TODO: Implement Function\n",
    "    return tf.placeholder(tf.float32,name='keep_prob')\n",
    "\n",
    "\n",
    "\"\"\"\n",
    "DON'T MODIFY ANYTHING IN THIS CELL THAT IS BELOW THIS LINE\n",
    "\"\"\"\n",
    "tf.reset_default_graph()\n",
    "tests.test_nn_image_inputs(neural_net_image_input)\n",
    "tests.test_nn_label_inputs(neural_net_label_input)\n",
    "tests.test_nn_keep_prob_inputs(neural_net_keep_prob_input)"
   ]
  },
  {
   "cell_type": "markdown",
   "metadata": {
    "deletable": true,
    "editable": true
   },
   "source": [
    "### Convolution and Max Pooling Layer\n",
    "Convolution layers have a lot of success with images. For this code cell, you should implement the function `conv2d_maxpool` to apply convolution then max pooling:\n",
    "* Create the weight and bias using `conv_ksize`, `conv_num_outputs` and the shape of `x_tensor`.\n",
    "* Apply a convolution to `x_tensor` using weight and `conv_strides`.\n",
    " * We recommend you use same padding, but you're welcome to use any padding.\n",
    "* Add bias\n",
    "* Add a nonlinear activation to the convolution.\n",
    "* Apply Max Pooling using `pool_ksize` and `pool_strides`.\n",
    " * We recommend you use same padding, but you're welcome to use any padding.\n",
    "\n",
    "**Note:** You **can't** use [TensorFlow Layers](https://www.tensorflow.org/api_docs/python/tf/layers) or [TensorFlow Layers (contrib)](https://www.tensorflow.org/api_guides/python/contrib.layers) for **this** layer, but you can still use TensorFlow's [Neural Network](https://www.tensorflow.org/api_docs/python/tf/nn) package. You may still use the shortcut option for all the **other** layers."
   ]
  },
  {
   "cell_type": "code",
   "execution_count": 8,
   "metadata": {
    "collapsed": false,
    "deletable": true,
    "editable": true
   },
   "outputs": [
    {
     "name": "stdout",
     "output_type": "stream",
     "text": [
      "Tests Passed\n"
     ]
    }
   ],
   "source": [
    "def conv2d_maxpool(x_tensor, conv_num_outputs, conv_ksize, conv_strides, pool_ksize, pool_strides):\n",
    "    \"\"\"\n",
    "    Apply convolution then max pooling to x_tensor\n",
    "    :param x_tensor: TensorFlow Tensor\n",
    "    :param conv_num_outputs: Number of outputs for the convolutional layer\n",
    "    :param conv_ksize: kernal size 2-D Tuple for the convolutional layer\n",
    "    :param conv_strides: Stride 2-D Tuple for convolution\n",
    "    :param pool_ksize: kernal size 2-D Tuple for pool\n",
    "    :param pool_strides: Stride 2-D Tuple for pool\n",
    "    : return: A tensor that represents convolution and max pooling of x_tensor\n",
    "    \"\"\"\n",
    "    conv_num_inputs = x_tensor.get_shape().as_list()[3]\n",
    "    ksize = [1,conv_ksize[0],conv_ksize[1],1]\n",
    "    weights = tf.Variable(tf.truncated_normal([ksize[0],ksize[1],conv_num_inputs,conv_num_outputs], stddev=0.1))\n",
    "    biases = tf.Variable(tf.zeros(conv_num_outputs,dtype=tf.float32))\n",
    "    \n",
    "    strides = [1,conv_strides[0],conv_strides[1],1]\n",
    "    pool_ksize = [1,pool_ksize[0],pool_ksize[1],1]\n",
    "    pool_strides = [1,pool_strides[0],pool_strides[1],1]\n",
    "    \n",
    "    covnet_layer = tf.nn.conv2d(x_tensor,weights,strides=strides,padding='SAME')\n",
    "    covnet_layer = tf.nn.bias_add(covnet_layer,biases)\n",
    "    covnet_layer = tf.nn.relu(covnet_layer)\n",
    "    maxpool_layer = tf.nn.max_pool(covnet_layer,ksize=pool_ksize,strides=pool_strides,padding='SAME')\n",
    "    \n",
    "    return maxpool_layer \n",
    "\n",
    "\n",
    "\"\"\"\n",
    "DON'T MODIFY ANYTHING IN THIS CELL THAT IS BELOW THIS LINE\n",
    "\"\"\"\n",
    "tests.test_con_pool(conv2d_maxpool)"
   ]
  },
  {
   "cell_type": "markdown",
   "metadata": {
    "deletable": true,
    "editable": true
   },
   "source": [
    "### Flatten Layer\n",
    "Implement the `flatten` function to change the dimension of `x_tensor` from a 4-D tensor to a 2-D tensor.  The output should be the shape (*Batch Size*, *Flattened Image Size*). Shortcut option: you can use classes from the [TensorFlow Layers](https://www.tensorflow.org/api_docs/python/tf/layers) or [TensorFlow Layers (contrib)](https://www.tensorflow.org/api_guides/python/contrib.layers) packages for this layer. For more of a challenge, only use other TensorFlow packages."
   ]
  },
  {
   "cell_type": "code",
   "execution_count": 9,
   "metadata": {
    "collapsed": false,
    "deletable": true,
    "editable": true
   },
   "outputs": [
    {
     "name": "stdout",
     "output_type": "stream",
     "text": [
      "Tests Passed\n"
     ]
    }
   ],
   "source": [
    "def flatten(x_tensor):\n",
    "    \"\"\"\n",
    "    Flatten x_tensor to (Batch Size, Flattened Image Size)\n",
    "    : x_tensor: A tensor of size (Batch Size, ...), where ... are the image dimensions.\n",
    "    : return: A tensor of size (Batch Size, Flattened Image Size).\n",
    "    \"\"\"\n",
    "    # TODO: Implement Function\n",
    "    return tf.contrib.layers.flatten(x_tensor)\n",
    "\n",
    "\n",
    "\"\"\"\n",
    "DON'T MODIFY ANYTHING IN THIS CELL THAT IS BELOW THIS LINE\n",
    "\"\"\"\n",
    "tests.test_flatten(flatten)"
   ]
  },
  {
   "cell_type": "markdown",
   "metadata": {
    "deletable": true,
    "editable": true
   },
   "source": [
    "### Fully-Connected Layer\n",
    "Implement the `fully_conn` function to apply a fully connected layer to `x_tensor` with the shape (*Batch Size*, *num_outputs*). Shortcut option: you can use classes from the [TensorFlow Layers](https://www.tensorflow.org/api_docs/python/tf/layers) or [TensorFlow Layers (contrib)](https://www.tensorflow.org/api_guides/python/contrib.layers) packages for this layer. For more of a challenge, only use other TensorFlow packages."
   ]
  },
  {
   "cell_type": "code",
   "execution_count": 12,
   "metadata": {
    "collapsed": false,
    "deletable": true,
    "editable": true
   },
   "outputs": [
    {
     "name": "stdout",
     "output_type": "stream",
     "text": [
      "Tests Passed\n"
     ]
    }
   ],
   "source": [
    "def fully_conn(x_tensor, num_outputs):\n",
    "    \"\"\"\n",
    "    Apply a fully connected layer to x_tensor using weight and bias\n",
    "    : x_tensor: A 2-D tensor where the first dimension is batch size.\n",
    "    : num_outputs: The number of output that the new tensor should be.\n",
    "    : return: A 2-D tensor where the second dimension is num_outputs.\n",
    "    \"\"\"\n",
    "    # TODO: Implement Function\n",
    "    batch_size = x_tensor.get_shape().as_list()[1]\n",
    "    weights = tf.Variable(tf.truncated_normal([batch_size,num_outputs],stddev=0.1))\n",
    "    biases = tf.Variable(tf.zeros([num_outputs]))\n",
    "    fullycon_layer = tf.nn.relu(tf.add(tf.matmul(x_tensor,weights),biases))\n",
    "    return fullycon_layer\n",
    "\n",
    "\n",
    "\"\"\"\n",
    "DON'T MODIFY ANYTHING IN THIS CELL THAT IS BELOW THIS LINE\n",
    "\"\"\"\n",
    "tests.test_fully_conn(fully_conn)"
   ]
  },
  {
   "cell_type": "markdown",
   "metadata": {
    "deletable": true,
    "editable": true
   },
   "source": [
    "### Output Layer\n",
    "Implement the `output` function to apply a fully connected layer to `x_tensor` with the shape (*Batch Size*, *num_outputs*). Shortcut option: you can use classes from the [TensorFlow Layers](https://www.tensorflow.org/api_docs/python/tf/layers) or [TensorFlow Layers (contrib)](https://www.tensorflow.org/api_guides/python/contrib.layers) packages for this layer. For more of a challenge, only use other TensorFlow packages.\n",
    "\n",
    "**Note:** Activation, softmax, or cross entropy should **not** be applied to this."
   ]
  },
  {
   "cell_type": "code",
   "execution_count": 13,
   "metadata": {
    "collapsed": false,
    "deletable": true,
    "editable": true
   },
   "outputs": [
    {
     "name": "stdout",
     "output_type": "stream",
     "text": [
      "Tests Passed\n"
     ]
    }
   ],
   "source": [
    "def output(x_tensor, num_outputs):\n",
    "    \"\"\"\n",
    "    Apply a output layer to x_tensor using weight and bias\n",
    "    : x_tensor: A 2-D tensor where the first dimension is batch size.\n",
    "    : num_outputs: The number of output that the new tensor should be.\n",
    "    : return: A 2-D tensor where the second dimension is num_outputs.\n",
    "    \"\"\"\n",
    "    # TODO: Implement Function\n",
    "    batch_size = x_tensor.get_shape().as_list()[1]\n",
    "    weights = tf.Variable(tf.truncated_normal([batch_size,num_outputs],stddev=0.1))\n",
    "    biases = tf.Variable(tf.zeros([num_outputs]))\n",
    "    fullycon_layer = tf.add(tf.matmul(x_tensor,weights),biases)\n",
    "    return fullycon_layer\n",
    "\n",
    "\n",
    "\"\"\"\n",
    "DON'T MODIFY ANYTHING IN THIS CELL THAT IS BELOW THIS LINE\n",
    "\"\"\"\n",
    "tests.test_output(output)"
   ]
  },
  {
   "cell_type": "markdown",
   "metadata": {
    "deletable": true,
    "editable": true
   },
   "source": [
    "### Create Convolutional Model\n",
    "Implement the function `conv_net` to create a convolutional neural network model. The function takes in a batch of images, `x`, and outputs logits.  Use the layers you created above to create this model:\n",
    "\n",
    "* Apply 1, 2, or 3 Convolution and Max Pool layers\n",
    "* Apply a Flatten Layer\n",
    "* Apply 1, 2, or 3 Fully Connected Layers\n",
    "* Apply an Output Layer\n",
    "* Return the output\n",
    "* Apply [TensorFlow's Dropout](https://www.tensorflow.org/api_docs/python/tf/nn/dropout) to one or more layers in the model using `keep_prob`. "
   ]
  },
  {
   "cell_type": "code",
   "execution_count": 14,
   "metadata": {
    "collapsed": false,
    "deletable": true,
    "editable": true
   },
   "outputs": [
    {
     "name": "stdout",
     "output_type": "stream",
     "text": [
      "Neural Network Built!\n"
     ]
    }
   ],
   "source": [
    "def conv_net(x, keep_prob):\n",
    "    \"\"\"\n",
    "    Create a convolutional neural network model\n",
    "    : x: Placeholder tensor that holds image data.\n",
    "    : keep_prob: Placeholder tensor that hold dropout keep probability.\n",
    "    : return: Tensor that represents logits\n",
    "    \"\"\"\n",
    "    # TODO: Apply 1, 2, or 3 Convolution and Max Pool layers\n",
    "    #    Play around with different number of outputs, kernel size and stride\n",
    "    # Function Definition from Above:\n",
    "    #    conv2d_maxpool(x_tensor, conv_num_outputs, conv_ksize, conv_strides, pool_ksize, pool_strides)\n",
    "    conv_ksize = [5,5]\n",
    "    conv_strides = [1,1]\n",
    "    pool_ksize = [2,2]\n",
    "    pool_strides = [2,2]\n",
    "    conv_layer_1 = conv2d_maxpool(x, 32, conv_ksize, conv_strides, pool_ksize, pool_strides)\n",
    "    conv_layer_2 = conv2d_maxpool(conv_layer_1, 64, conv_ksize, conv_strides, pool_ksize, pool_strides)\n",
    "    conv_layer_3 = conv2d_maxpool(conv_layer_2, 128, conv_ksize, conv_strides, pool_ksize, pool_strides)\n",
    "\n",
    "    # TODO: Apply a Flatten Layer\n",
    "    # Function Definition from Above:\n",
    "    #   flatten(x_tensor)\n",
    "    flatten_layer = flatten(conv_layer_3)\n",
    "    \n",
    "    \n",
    "\n",
    "    # TODO: Apply 1, 2, or 3 Fully Connected Layers\n",
    "    #    Play around with different number of outputs\n",
    "    # Function Definition from Above:\n",
    "    #   fully_conn(x_tensor, num_outputs)\n",
    "    fc1_layer = fully_conn(flatten_layer,120)\n",
    "    fc1_drop = tf.nn.dropout(fc1_layer,keep_prob=keep_prob)\n",
    "    fc2_layer = fully_conn(fc1_drop,120)\n",
    "    fc2_drop = tf.nn.dropout(fc2_layer,keep_prob=keep_prob)\n",
    "    fc3_layer = fully_conn(fc2_drop,120)\n",
    "    \n",
    "    \n",
    "    # TODO: Apply an Output Layer\n",
    "    #    Set this to the number of classes\n",
    "    # Function Definition from Above:\n",
    "    #   output(x_tensor, num_outputs)\n",
    "    \n",
    "    output_layer = output(fc3_layer,10)\n",
    "    \n",
    "    \n",
    "    # TODO: return output\n",
    "    return output_layer\n",
    "\n",
    "\"\"\"\n",
    "DON'T MODIFY ANYTHING IN THIS CELL THAT IS BELOW THIS LINE\n",
    "\"\"\"\n",
    "\n",
    "##############################\n",
    "## Build the Neural Network ##\n",
    "##############################\n",
    "\n",
    "# Remove previous weights, bias, inputs, etc..\n",
    "tf.reset_default_graph()\n",
    "\n",
    "# Inputs\n",
    "x = neural_net_image_input((32, 32, 3))\n",
    "y = neural_net_label_input(10)\n",
    "keep_prob = neural_net_keep_prob_input()\n",
    "\n",
    "# Model\n",
    "logits = conv_net(x, keep_prob)\n",
    "\n",
    "# Name logits Tensor, so that is can be loaded from disk after training\n",
    "logits = tf.identity(logits, name='logits')\n",
    "\n",
    "# Loss and Optimizer\n",
    "cost = tf.reduce_mean(tf.nn.softmax_cross_entropy_with_logits(logits=logits, labels=y))\n",
    "optimizer = tf.train.AdamOptimizer().minimize(cost)\n",
    "\n",
    "# Accuracy\n",
    "correct_pred = tf.equal(tf.argmax(logits, 1), tf.argmax(y, 1))\n",
    "accuracy = tf.reduce_mean(tf.cast(correct_pred, tf.float32), name='accuracy')\n",
    "\n",
    "tests.test_conv_net(conv_net)"
   ]
  },
  {
   "cell_type": "markdown",
   "metadata": {
    "deletable": true,
    "editable": true
   },
   "source": [
    "## Train the Neural Network\n",
    "### Single Optimization\n",
    "Implement the function `train_neural_network` to do a single optimization.  The optimization should use `optimizer` to optimize in `session` with a `feed_dict` of the following:\n",
    "* `x` for image input\n",
    "* `y` for labels\n",
    "* `keep_prob` for keep probability for dropout\n",
    "\n",
    "This function will be called for each batch, so `tf.global_variables_initializer()` has already been called.\n",
    "\n",
    "Note: Nothing needs to be returned. This function is only optimizing the neural network."
   ]
  },
  {
   "cell_type": "code",
   "execution_count": 15,
   "metadata": {
    "collapsed": false,
    "deletable": true,
    "editable": true
   },
   "outputs": [
    {
     "name": "stdout",
     "output_type": "stream",
     "text": [
      "Tests Passed\n"
     ]
    }
   ],
   "source": [
    "def train_neural_network(session, optimizer, keep_probability, feature_batch, label_batch):\n",
    "    \"\"\"\n",
    "    Optimize the session on a batch of images and labels\n",
    "    : session: Current TensorFlow session\n",
    "    : optimizer: TensorFlow optimizer function\n",
    "    : keep_probability: keep probability\n",
    "    : feature_batch: Batch of Numpy image data\n",
    "    : label_batch: Batch of Numpy label data\n",
    "    \"\"\"\n",
    "    session.run(optimizer,feed_dict={keep_prob:keep_probability,x:feature_batch,y:label_batch})\n",
    "\n",
    "\"\"\"\n",
    "DON'T MODIFY ANYTHING IN THIS CELL THAT IS BELOW THIS LINE\n",
    "\"\"\"\n",
    "tests.test_train_nn(train_neural_network)"
   ]
  },
  {
   "cell_type": "markdown",
   "metadata": {
    "deletable": true,
    "editable": true
   },
   "source": [
    "### Show Stats\n",
    "Implement the function `print_stats` to print loss and validation accuracy.  Use the global variables `valid_features` and `valid_labels` to calculate validation accuracy.  Use a keep probability of `1.0` to calculate the loss and validation accuracy."
   ]
  },
  {
   "cell_type": "code",
   "execution_count": 16,
   "metadata": {
    "collapsed": false,
    "deletable": true,
    "editable": true
   },
   "outputs": [],
   "source": [
    "def print_stats(session, feature_batch, label_batch, cost, accuracy):\n",
    "    \"\"\"\n",
    "    Print information about loss and validation accuracy\n",
    "    : session: Current TensorFlow session\n",
    "    : feature_batch: Batch of Numpy image data\n",
    "    : label_batch: Batch of Numpy label data\n",
    "    : cost: TensorFlow cost function\n",
    "    : accuracy: TensorFlow accuracy function\n",
    "    \"\"\"\n",
    "    Vaccuracy =  session.run(accuracy,feed_dict={keep_prob:1.0, x:valid_features, y:valid_labels})\n",
    "    loss = session.run(cost,feed_dict={keep_prob:1.0, x:feature_batch, y:label_batch})\n",
    "    print (\"loss: {}\".format(loss))\n",
    "    print (\"Validation_Accuracy: {}\".format(Vaccuracy))"
   ]
  },
  {
   "cell_type": "markdown",
   "metadata": {
    "deletable": true,
    "editable": true
   },
   "source": [
    "### Hyperparameters\n",
    "Tune the following parameters:\n",
    "* Set `epochs` to the number of iterations until the network stops learning or start overfitting\n",
    "* Set `batch_size` to the highest number that your machine has memory for.  Most people set them to common sizes of memory:\n",
    " * 64\n",
    " * 128\n",
    " * 256\n",
    " * ...\n",
    "* Set `keep_probability` to the probability of keeping a node using dropout"
   ]
  },
  {
   "cell_type": "code",
   "execution_count": 17,
   "metadata": {
    "collapsed": true,
    "deletable": true,
    "editable": true
   },
   "outputs": [],
   "source": [
    "# TODO: Tune Parameters\n",
    "epochs = 32\n",
    "batch_size = 128\n",
    "keep_probability = 0.7"
   ]
  },
  {
   "cell_type": "markdown",
   "metadata": {
    "deletable": true,
    "editable": true
   },
   "source": [
    "### Train on a Single CIFAR-10 Batch\n",
    "Instead of training the neural network on all the CIFAR-10 batches of data, let's use a single batch. This should save time while you iterate on the model to get a better accuracy.  Once the final validation accuracy is 50% or greater, run the model on all the data in the next section."
   ]
  },
  {
   "cell_type": "code",
   "execution_count": 18,
   "metadata": {
    "collapsed": false,
    "deletable": true,
    "editable": true
   },
   "outputs": [
    {
     "name": "stdout",
     "output_type": "stream",
     "text": [
      "Checking the Training on a Single Batch...\n",
      "Epoch  1, CIFAR-10 Batch 1:  loss: 2.1560347080230713\n",
      "Validation_Accuracy: 0.26579999923706055\n",
      "Epoch  2, CIFAR-10 Batch 1:  loss: 1.9297620058059692\n",
      "Validation_Accuracy: 0.36479997634887695\n",
      "Epoch  3, CIFAR-10 Batch 1:  loss: 1.723096489906311\n",
      "Validation_Accuracy: 0.4137999713420868\n",
      "Epoch  4, CIFAR-10 Batch 1:  loss: 1.5271350145339966\n",
      "Validation_Accuracy: 0.4381999671459198\n",
      "Epoch  5, CIFAR-10 Batch 1:  loss: 1.3297743797302246\n",
      "Validation_Accuracy: 0.4851999580860138\n",
      "Epoch  6, CIFAR-10 Batch 1:  loss: 1.225412130355835\n",
      "Validation_Accuracy: 0.49119994044303894\n",
      "Epoch  7, CIFAR-10 Batch 1:  loss: 1.1405199766159058\n",
      "Validation_Accuracy: 0.4907999634742737\n",
      "Epoch  8, CIFAR-10 Batch 1:  loss: 1.0555059909820557\n",
      "Validation_Accuracy: 0.5123999118804932\n",
      "Epoch  9, CIFAR-10 Batch 1:  loss: 0.9972606301307678\n",
      "Validation_Accuracy: 0.5199999213218689\n",
      "Epoch 10, CIFAR-10 Batch 1:  loss: 0.8578450679779053\n",
      "Validation_Accuracy: 0.5381999611854553\n",
      "Epoch 11, CIFAR-10 Batch 1:  loss: 0.7977266907691956\n",
      "Validation_Accuracy: 0.5457999110221863\n",
      "Epoch 12, CIFAR-10 Batch 1:  loss: 0.7852053046226501\n",
      "Validation_Accuracy: 0.5345999598503113\n",
      "Epoch 13, CIFAR-10 Batch 1:  loss: 0.7221190333366394\n",
      "Validation_Accuracy: 0.5403999090194702\n",
      "Epoch 14, CIFAR-10 Batch 1:  loss: 0.6775242686271667\n",
      "Validation_Accuracy: 0.5305998921394348\n",
      "Epoch 15, CIFAR-10 Batch 1:  loss: 0.7201617360115051\n",
      "Validation_Accuracy: 0.5399999022483826\n",
      "Epoch 16, CIFAR-10 Batch 1:  loss: 0.6394113302230835\n",
      "Validation_Accuracy: 0.5587999820709229\n",
      "Epoch 17, CIFAR-10 Batch 1:  loss: 0.5685009956359863\n",
      "Validation_Accuracy: 0.556999921798706\n",
      "Epoch 18, CIFAR-10 Batch 1:  loss: 0.5911434292793274\n",
      "Validation_Accuracy: 0.5495999455451965\n",
      "Epoch 19, CIFAR-10 Batch 1:  loss: 0.4228506088256836\n",
      "Validation_Accuracy: 0.5453999638557434\n",
      "Epoch 20, CIFAR-10 Batch 1:  loss: 0.3659430146217346\n",
      "Validation_Accuracy: 0.543999969959259\n",
      "Epoch 21, CIFAR-10 Batch 1:  loss: 0.3752940595149994\n",
      "Validation_Accuracy: 0.5445999503135681\n",
      "Epoch 22, CIFAR-10 Batch 1:  loss: 0.37190407514572144\n",
      "Validation_Accuracy: 0.5537999272346497\n",
      "Epoch 23, CIFAR-10 Batch 1:  loss: 0.3342505693435669\n",
      "Validation_Accuracy: 0.5619999170303345\n",
      "Epoch 24, CIFAR-10 Batch 1:  loss: 0.28602588176727295\n",
      "Validation_Accuracy: 0.5715999603271484\n",
      "Epoch 25, CIFAR-10 Batch 1:  loss: 0.2591317892074585\n",
      "Validation_Accuracy: 0.5583999156951904\n",
      "Epoch 26, CIFAR-10 Batch 1:  loss: 0.247633159160614\n",
      "Validation_Accuracy: 0.5653998851776123\n",
      "Epoch 27, CIFAR-10 Batch 1:  loss: 0.2152172178030014\n",
      "Validation_Accuracy: 0.5595999360084534\n",
      "Epoch 28, CIFAR-10 Batch 1:  loss: 0.2101903110742569\n",
      "Validation_Accuracy: 0.5535999536514282\n",
      "Epoch 29, CIFAR-10 Batch 1:  loss: 0.19768297672271729\n",
      "Validation_Accuracy: 0.5359999537467957\n",
      "Epoch 30, CIFAR-10 Batch 1:  loss: 0.16919901967048645\n",
      "Validation_Accuracy: 0.5409999489784241\n",
      "Epoch 31, CIFAR-10 Batch 1:  loss: 0.16560295224189758\n",
      "Validation_Accuracy: 0.5517999529838562\n",
      "Epoch 32, CIFAR-10 Batch 1:  loss: 0.12502595782279968\n",
      "Validation_Accuracy: 0.554599940776825\n"
     ]
    }
   ],
   "source": [
    "\"\"\"\n",
    "DON'T MODIFY ANYTHING IN THIS CELL\n",
    "\"\"\"\n",
    "print('Checking the Training on a Single Batch...')\n",
    "with tf.Session() as sess:\n",
    "    # Initializing the variables\n",
    "    sess.run(tf.global_variables_initializer())\n",
    "    \n",
    "    # Training cycle\n",
    "    for epoch in range(epochs):\n",
    "        batch_i = 1\n",
    "        for batch_features, batch_labels in helper.load_preprocess_training_batch(batch_i, batch_size):\n",
    "            train_neural_network(sess, optimizer, keep_probability, batch_features, batch_labels)\n",
    "        print('Epoch {:>2}, CIFAR-10 Batch {}:  '.format(epoch + 1, batch_i), end='')\n",
    "        print_stats(sess, batch_features, batch_labels, cost, accuracy)"
   ]
  },
  {
   "cell_type": "markdown",
   "metadata": {
    "deletable": true,
    "editable": true
   },
   "source": [
    "### Fully Train the Model\n",
    "Now that you got a good accuracy with a single CIFAR-10 batch, try it with all five batches."
   ]
  },
  {
   "cell_type": "code",
   "execution_count": 19,
   "metadata": {
    "collapsed": false,
    "deletable": true,
    "editable": true
   },
   "outputs": [
    {
     "name": "stdout",
     "output_type": "stream",
     "text": [
      "Training...\n",
      "Epoch  1, CIFAR-10 Batch 1:  loss: 2.155582904815674\n",
      "Validation_Accuracy: 0.28019997477531433\n",
      "Epoch  1, CIFAR-10 Batch 2:  loss: 1.7621873617172241\n",
      "Validation_Accuracy: 0.3619999885559082\n",
      "Epoch  1, CIFAR-10 Batch 3:  loss: 1.4667034149169922\n",
      "Validation_Accuracy: 0.41200000047683716\n",
      "Epoch  1, CIFAR-10 Batch 4:  loss: 1.441328525543213\n",
      "Validation_Accuracy: 0.4485999345779419\n",
      "Epoch  1, CIFAR-10 Batch 5:  loss: 1.54464590549469\n",
      "Validation_Accuracy: 0.4859999120235443\n",
      "Epoch  2, CIFAR-10 Batch 1:  loss: 1.500214695930481\n",
      "Validation_Accuracy: 0.5047999620437622\n",
      "Epoch  2, CIFAR-10 Batch 2:  loss: 1.3229514360427856\n",
      "Validation_Accuracy: 0.5137999653816223\n",
      "Epoch  2, CIFAR-10 Batch 3:  loss: 1.2390499114990234\n",
      "Validation_Accuracy: 0.5167999267578125\n",
      "Epoch  2, CIFAR-10 Batch 4:  loss: 1.081857681274414\n",
      "Validation_Accuracy: 0.5491999983787537\n",
      "Epoch  2, CIFAR-10 Batch 5:  loss: 1.3142759799957275\n",
      "Validation_Accuracy: 0.545799970626831\n",
      "Epoch  3, CIFAR-10 Batch 1:  loss: 1.3659112453460693\n",
      "Validation_Accuracy: 0.5499999523162842\n",
      "Epoch  3, CIFAR-10 Batch 2:  loss: 1.1568315029144287\n",
      "Validation_Accuracy: 0.5641999244689941\n",
      "Epoch  3, CIFAR-10 Batch 3:  loss: 1.1419010162353516\n",
      "Validation_Accuracy: 0.5437999367713928\n",
      "Epoch  3, CIFAR-10 Batch 4:  loss: 0.9487318396568298\n",
      "Validation_Accuracy: 0.5733999013900757\n",
      "Epoch  3, CIFAR-10 Batch 5:  loss: 1.1505787372589111\n",
      "Validation_Accuracy: 0.5901999473571777\n",
      "Epoch  4, CIFAR-10 Batch 1:  loss: 1.1407091617584229\n",
      "Validation_Accuracy: 0.593799889087677\n",
      "Epoch  4, CIFAR-10 Batch 2:  loss: 0.9481551051139832\n",
      "Validation_Accuracy: 0.590399980545044\n",
      "Epoch  4, CIFAR-10 Batch 3:  loss: 0.9440525770187378\n",
      "Validation_Accuracy: 0.5865998864173889\n",
      "Epoch  4, CIFAR-10 Batch 4:  loss: 0.788270115852356\n",
      "Validation_Accuracy: 0.6147998571395874\n",
      "Epoch  4, CIFAR-10 Batch 5:  loss: 1.0299831628799438\n",
      "Validation_Accuracy: 0.6173999309539795\n",
      "Epoch  5, CIFAR-10 Batch 1:  loss: 1.1662890911102295\n",
      "Validation_Accuracy: 0.5965999364852905\n",
      "Epoch  5, CIFAR-10 Batch 2:  loss: 0.8167222142219543\n",
      "Validation_Accuracy: 0.6157999038696289\n",
      "Epoch  5, CIFAR-10 Batch 3:  loss: 0.855540931224823\n",
      "Validation_Accuracy: 0.605199933052063\n",
      "Epoch  5, CIFAR-10 Batch 4:  loss: 0.683871865272522\n",
      "Validation_Accuracy: 0.6189998984336853\n",
      "Epoch  5, CIFAR-10 Batch 5:  loss: 0.9277512431144714\n",
      "Validation_Accuracy: 0.6231999397277832\n",
      "Epoch  6, CIFAR-10 Batch 1:  loss: 1.0242639780044556\n",
      "Validation_Accuracy: 0.6137999296188354\n",
      "Epoch  6, CIFAR-10 Batch 2:  loss: 0.8273767232894897\n",
      "Validation_Accuracy: 0.6213998794555664\n",
      "Epoch  6, CIFAR-10 Batch 3:  loss: 0.7250415086746216\n",
      "Validation_Accuracy: 0.6135998368263245\n",
      "Epoch  6, CIFAR-10 Batch 4:  loss: 0.5994877815246582\n",
      "Validation_Accuracy: 0.6345999240875244\n",
      "Epoch  6, CIFAR-10 Batch 5:  loss: 0.8091487884521484\n",
      "Validation_Accuracy: 0.6333999037742615\n",
      "Epoch  7, CIFAR-10 Batch 1:  loss: 0.8969369530677795\n",
      "Validation_Accuracy: 0.6231998801231384\n",
      "Epoch  7, CIFAR-10 Batch 2:  loss: 0.668079137802124\n",
      "Validation_Accuracy: 0.6311998963356018\n",
      "Epoch  7, CIFAR-10 Batch 3:  loss: 0.5792539119720459\n",
      "Validation_Accuracy: 0.6329998970031738\n",
      "Epoch  7, CIFAR-10 Batch 4:  loss: 0.5552638173103333\n",
      "Validation_Accuracy: 0.640799880027771\n",
      "Epoch  7, CIFAR-10 Batch 5:  loss: 0.6995378136634827\n",
      "Validation_Accuracy: 0.6439998745918274\n",
      "Epoch  8, CIFAR-10 Batch 1:  loss: 0.7805227041244507\n",
      "Validation_Accuracy: 0.6415998935699463\n",
      "Epoch  8, CIFAR-10 Batch 2:  loss: 0.6072496771812439\n",
      "Validation_Accuracy: 0.6337998509407043\n",
      "Epoch  8, CIFAR-10 Batch 3:  loss: 0.5150277018547058\n",
      "Validation_Accuracy: 0.6485998630523682\n",
      "Epoch  8, CIFAR-10 Batch 4:  loss: 0.4930054843425751\n",
      "Validation_Accuracy: 0.650399923324585\n",
      "Epoch  8, CIFAR-10 Batch 5:  loss: 0.5965222120285034\n",
      "Validation_Accuracy: 0.6505998373031616\n",
      "Epoch  9, CIFAR-10 Batch 1:  loss: 0.71905118227005\n",
      "Validation_Accuracy: 0.6333999037742615\n",
      "Epoch  9, CIFAR-10 Batch 2:  loss: 0.5170723795890808\n",
      "Validation_Accuracy: 0.6427999138832092\n",
      "Epoch  9, CIFAR-10 Batch 3:  loss: 0.48751020431518555\n",
      "Validation_Accuracy: 0.6445999145507812\n",
      "Epoch  9, CIFAR-10 Batch 4:  loss: 0.5024359226226807\n",
      "Validation_Accuracy: 0.6395999193191528\n",
      "Epoch  9, CIFAR-10 Batch 5:  loss: 0.48276084661483765\n",
      "Validation_Accuracy: 0.6517999172210693\n",
      "Epoch 10, CIFAR-10 Batch 1:  loss: 0.6439963579177856\n",
      "Validation_Accuracy: 0.6535999178886414\n",
      "Epoch 10, CIFAR-10 Batch 2:  loss: 0.42382970452308655\n",
      "Validation_Accuracy: 0.653999924659729\n",
      "Epoch 10, CIFAR-10 Batch 3:  loss: 0.378968745470047\n",
      "Validation_Accuracy: 0.6565999388694763\n",
      "Epoch 10, CIFAR-10 Batch 4:  loss: 0.37407800555229187\n",
      "Validation_Accuracy: 0.6523998975753784\n",
      "Epoch 10, CIFAR-10 Batch 5:  loss: 0.4023737907409668\n",
      "Validation_Accuracy: 0.6577998399734497\n",
      "Epoch 11, CIFAR-10 Batch 1:  loss: 0.5960739850997925\n",
      "Validation_Accuracy: 0.6505998969078064\n",
      "Epoch 11, CIFAR-10 Batch 2:  loss: 0.38574615120887756\n",
      "Validation_Accuracy: 0.6597999334335327\n",
      "Epoch 11, CIFAR-10 Batch 3:  loss: 0.3696252703666687\n",
      "Validation_Accuracy: 0.6639998555183411\n",
      "Epoch 11, CIFAR-10 Batch 4:  loss: 0.35834020376205444\n",
      "Validation_Accuracy: 0.6533999443054199\n",
      "Epoch 11, CIFAR-10 Batch 5:  loss: 0.3748743236064911\n",
      "Validation_Accuracy: 0.6553998589515686\n",
      "Epoch 12, CIFAR-10 Batch 1:  loss: 0.5657628774642944\n",
      "Validation_Accuracy: 0.6573998928070068\n",
      "Epoch 12, CIFAR-10 Batch 2:  loss: 0.32106584310531616\n",
      "Validation_Accuracy: 0.6625999212265015\n",
      "Epoch 12, CIFAR-10 Batch 3:  loss: 0.3130808472633362\n",
      "Validation_Accuracy: 0.6669998168945312\n",
      "Epoch 12, CIFAR-10 Batch 4:  loss: 0.3462762236595154\n",
      "Validation_Accuracy: 0.6533999443054199\n",
      "Epoch 12, CIFAR-10 Batch 5:  loss: 0.3276674151420593\n",
      "Validation_Accuracy: 0.6581998467445374\n",
      "Epoch 13, CIFAR-10 Batch 1:  loss: 0.46962153911590576\n",
      "Validation_Accuracy: 0.652199923992157\n",
      "Epoch 13, CIFAR-10 Batch 2:  loss: 0.30767154693603516\n",
      "Validation_Accuracy: 0.6693998575210571\n",
      "Epoch 13, CIFAR-10 Batch 3:  loss: 0.31877994537353516\n",
      "Validation_Accuracy: 0.6547998785972595\n",
      "Epoch 13, CIFAR-10 Batch 4:  loss: 0.2848629355430603\n",
      "Validation_Accuracy: 0.6481999158859253\n",
      "Epoch 13, CIFAR-10 Batch 5:  loss: 0.2853856682777405\n",
      "Validation_Accuracy: 0.6665998697280884\n",
      "Epoch 14, CIFAR-10 Batch 1:  loss: 0.39273715019226074\n",
      "Validation_Accuracy: 0.6665998697280884\n",
      "Epoch 14, CIFAR-10 Batch 2:  loss: 0.30151477456092834\n",
      "Validation_Accuracy: 0.6623998880386353\n",
      "Epoch 14, CIFAR-10 Batch 3:  loss: 0.2763780951499939\n",
      "Validation_Accuracy: 0.6555999517440796\n",
      "Epoch 14, CIFAR-10 Batch 4:  loss: 0.2743493318557739\n",
      "Validation_Accuracy: 0.6507999300956726\n",
      "Epoch 14, CIFAR-10 Batch 5:  loss: 0.2899094820022583\n",
      "Validation_Accuracy: 0.6379998922348022\n",
      "Epoch 15, CIFAR-10 Batch 1:  loss: 0.45336857438087463\n",
      "Validation_Accuracy: 0.6375999450683594\n",
      "Epoch 15, CIFAR-10 Batch 2:  loss: 0.22224700450897217\n",
      "Validation_Accuracy: 0.6617999076843262\n",
      "Epoch 15, CIFAR-10 Batch 3:  loss: 0.263851523399353\n",
      "Validation_Accuracy: 0.6641998887062073\n",
      "Epoch 15, CIFAR-10 Batch 4:  loss: 0.21598654985427856\n",
      "Validation_Accuracy: 0.6623998880386353\n",
      "Epoch 15, CIFAR-10 Batch 5:  loss: 0.23671674728393555\n",
      "Validation_Accuracy: 0.6369999051094055\n",
      "Epoch 16, CIFAR-10 Batch 1:  loss: 0.3177935481071472\n",
      "Validation_Accuracy: 0.6579999327659607\n",
      "Epoch 16, CIFAR-10 Batch 2:  loss: 0.2027890682220459\n",
      "Validation_Accuracy: 0.6711999773979187\n",
      "Epoch 16, CIFAR-10 Batch 3:  loss: 0.2451123595237732\n",
      "Validation_Accuracy: 0.6537998914718628\n",
      "Epoch 16, CIFAR-10 Batch 4:  loss: 0.23351553082466125\n",
      "Validation_Accuracy: 0.6605998873710632\n",
      "Epoch 16, CIFAR-10 Batch 5:  loss: 0.18473422527313232\n",
      "Validation_Accuracy: 0.6623998880386353\n",
      "Epoch 17, CIFAR-10 Batch 1:  loss: 0.38305121660232544\n",
      "Validation_Accuracy: 0.6483998894691467\n",
      "Epoch 17, CIFAR-10 Batch 2:  loss: 0.1856595277786255\n",
      "Validation_Accuracy: 0.6715998649597168\n",
      "Epoch 17, CIFAR-10 Batch 3:  loss: 0.20858362317085266\n",
      "Validation_Accuracy: 0.6631999015808105\n",
      "Epoch 17, CIFAR-10 Batch 4:  loss: 0.25068962574005127\n",
      "Validation_Accuracy: 0.6583998799324036\n",
      "Epoch 17, CIFAR-10 Batch 5:  loss: 0.19901444017887115\n",
      "Validation_Accuracy: 0.6537998914718628\n",
      "Epoch 18, CIFAR-10 Batch 1:  loss: 0.37757787108421326\n",
      "Validation_Accuracy: 0.6547998785972595\n",
      "Epoch 18, CIFAR-10 Batch 2:  loss: 0.22112122178077698\n",
      "Validation_Accuracy: 0.6623998880386353\n",
      "Epoch 18, CIFAR-10 Batch 3:  loss: 0.2031959593296051\n",
      "Validation_Accuracy: 0.6595999002456665\n",
      "Epoch 18, CIFAR-10 Batch 4:  loss: 0.27114447951316833\n",
      "Validation_Accuracy: 0.6483999490737915\n",
      "Epoch 18, CIFAR-10 Batch 5:  loss: 0.14342565834522247\n",
      "Validation_Accuracy: 0.6593998670578003\n",
      "Epoch 19, CIFAR-10 Batch 1:  loss: 0.25769197940826416\n",
      "Validation_Accuracy: 0.6557998657226562\n",
      "Epoch 19, CIFAR-10 Batch 2:  loss: 0.17431195080280304\n",
      "Validation_Accuracy: 0.6639998555183411\n",
      "Epoch 19, CIFAR-10 Batch 3:  loss: 0.17834411561489105\n",
      "Validation_Accuracy: 0.655799925327301\n",
      "Epoch 19, CIFAR-10 Batch 4:  loss: 0.17193299531936646\n",
      "Validation_Accuracy: 0.6595999002456665\n",
      "Epoch 19, CIFAR-10 Batch 5:  loss: 0.14044980704784393\n",
      "Validation_Accuracy: 0.6655999422073364\n",
      "Epoch 20, CIFAR-10 Batch 1:  loss: 0.2584266662597656\n",
      "Validation_Accuracy: 0.6607999205589294\n",
      "Epoch 20, CIFAR-10 Batch 2:  loss: 0.14408977329730988\n",
      "Validation_Accuracy: 0.6649999022483826\n",
      "Epoch 20, CIFAR-10 Batch 3:  loss: 0.1588657796382904\n",
      "Validation_Accuracy: 0.6487998366355896\n",
      "Epoch 20, CIFAR-10 Batch 4:  loss: 0.2647339105606079\n",
      "Validation_Accuracy: 0.6513999700546265\n",
      "Epoch 20, CIFAR-10 Batch 5:  loss: 0.14221754670143127\n",
      "Validation_Accuracy: 0.6607998609542847\n",
      "Epoch 21, CIFAR-10 Batch 1:  loss: 0.24171419441699982\n",
      "Validation_Accuracy: 0.6645998358726501\n",
      "Epoch 21, CIFAR-10 Batch 2:  loss: 0.13846534490585327\n",
      "Validation_Accuracy: 0.6675999164581299\n",
      "Epoch 21, CIFAR-10 Batch 3:  loss: 0.13691607117652893\n",
      "Validation_Accuracy: 0.6463999152183533\n",
      "Epoch 21, CIFAR-10 Batch 4:  loss: 0.197046160697937\n",
      "Validation_Accuracy: 0.6589998602867126\n",
      "Epoch 21, CIFAR-10 Batch 5:  loss: 0.12918609380722046\n",
      "Validation_Accuracy: 0.655799925327301\n",
      "Epoch 22, CIFAR-10 Batch 1:  loss: 0.27230238914489746\n",
      "Validation_Accuracy: 0.660399854183197\n",
      "Epoch 22, CIFAR-10 Batch 2:  loss: 0.13577282428741455\n",
      "Validation_Accuracy: 0.6665998697280884\n",
      "Epoch 22, CIFAR-10 Batch 3:  loss: 0.13552390038967133\n",
      "Validation_Accuracy: 0.6517997980117798\n",
      "Epoch 22, CIFAR-10 Batch 4:  loss: 0.1726595014333725\n",
      "Validation_Accuracy: 0.6605998873710632\n",
      "Epoch 22, CIFAR-10 Batch 5:  loss: 0.11594419181346893\n",
      "Validation_Accuracy: 0.6569998860359192\n",
      "Epoch 23, CIFAR-10 Batch 1:  loss: 0.19676783680915833\n",
      "Validation_Accuracy: 0.6627998948097229\n",
      "Epoch 23, CIFAR-10 Batch 2:  loss: 0.15017376840114594\n",
      "Validation_Accuracy: 0.6527998447418213\n",
      "Epoch 23, CIFAR-10 Batch 3:  loss: 0.12087894976139069\n",
      "Validation_Accuracy: 0.6655998229980469\n",
      "Epoch 23, CIFAR-10 Batch 4:  loss: 0.14892321825027466\n",
      "Validation_Accuracy: 0.654999852180481\n",
      "Epoch 23, CIFAR-10 Batch 5:  loss: 0.08960491418838501\n",
      "Validation_Accuracy: 0.6555998921394348\n",
      "Epoch 24, CIFAR-10 Batch 1:  loss: 0.18115964531898499\n",
      "Validation_Accuracy: 0.6663998365402222\n",
      "Epoch 24, CIFAR-10 Batch 2:  loss: 0.11360655725002289\n",
      "Validation_Accuracy: 0.6597999334335327\n",
      "Epoch 24, CIFAR-10 Batch 3:  loss: 0.1419803947210312\n",
      "Validation_Accuracy: 0.6413998603820801\n",
      "Epoch 24, CIFAR-10 Batch 4:  loss: 0.1304338425397873\n",
      "Validation_Accuracy: 0.646399974822998\n",
      "Epoch 24, CIFAR-10 Batch 5:  loss: 0.08952347189188004\n",
      "Validation_Accuracy: 0.6591998338699341\n",
      "Epoch 25, CIFAR-10 Batch 1:  loss: 0.19893193244934082\n",
      "Validation_Accuracy: 0.6587998867034912\n",
      "Epoch 25, CIFAR-10 Batch 2:  loss: 0.13153523206710815\n",
      "Validation_Accuracy: 0.6483999490737915\n",
      "Epoch 25, CIFAR-10 Batch 3:  loss: 0.11570081114768982\n",
      "Validation_Accuracy: 0.6605998873710632\n",
      "Epoch 25, CIFAR-10 Batch 4:  loss: 0.12457132339477539\n",
      "Validation_Accuracy: 0.6501998901367188\n",
      "Epoch 25, CIFAR-10 Batch 5:  loss: 0.08736789226531982\n",
      "Validation_Accuracy: 0.6563999652862549\n",
      "Epoch 26, CIFAR-10 Batch 1:  loss: 0.16071772575378418\n",
      "Validation_Accuracy: 0.6607998609542847\n",
      "Epoch 26, CIFAR-10 Batch 2:  loss: 0.10394274443387985\n",
      "Validation_Accuracy: 0.6547999382019043\n",
      "Epoch 26, CIFAR-10 Batch 3:  loss: 0.0879708081483841\n",
      "Validation_Accuracy: 0.6551998853683472\n",
      "Epoch 26, CIFAR-10 Batch 4:  loss: 0.09453766793012619\n",
      "Validation_Accuracy: 0.6461998224258423\n",
      "Epoch 26, CIFAR-10 Batch 5:  loss: 0.06980016827583313\n",
      "Validation_Accuracy: 0.6745998859405518\n",
      "Epoch 27, CIFAR-10 Batch 1:  loss: 0.13592013716697693\n",
      "Validation_Accuracy: 0.6623998880386353\n",
      "Epoch 27, CIFAR-10 Batch 2:  loss: 0.08783626556396484\n",
      "Validation_Accuracy: 0.6551998853683472\n",
      "Epoch 27, CIFAR-10 Batch 3:  loss: 0.08182123303413391\n",
      "Validation_Accuracy: 0.6597998738288879\n",
      "Epoch 27, CIFAR-10 Batch 4:  loss: 0.09583522379398346\n",
      "Validation_Accuracy: 0.6461998820304871\n",
      "Epoch 27, CIFAR-10 Batch 5:  loss: 0.05584051087498665\n",
      "Validation_Accuracy: 0.6593999266624451\n",
      "Epoch 28, CIFAR-10 Batch 1:  loss: 0.13933458924293518\n",
      "Validation_Accuracy: 0.6569998860359192\n",
      "Epoch 28, CIFAR-10 Batch 2:  loss: 0.08504783362150192\n",
      "Validation_Accuracy: 0.6523998379707336\n",
      "Epoch 28, CIFAR-10 Batch 3:  loss: 0.08912479877471924\n",
      "Validation_Accuracy: 0.6583998799324036\n",
      "Epoch 28, CIFAR-10 Batch 4:  loss: 0.10000304877758026\n",
      "Validation_Accuracy: 0.6511998772621155\n",
      "Epoch 28, CIFAR-10 Batch 5:  loss: 0.10151748359203339\n",
      "Validation_Accuracy: 0.6643998622894287\n",
      "Epoch 29, CIFAR-10 Batch 1:  loss: 0.1590045988559723\n",
      "Validation_Accuracy: 0.6569998264312744\n",
      "Epoch 29, CIFAR-10 Batch 2:  loss: 0.09445282816886902\n",
      "Validation_Accuracy: 0.6429999470710754\n",
      "Epoch 29, CIFAR-10 Batch 3:  loss: 0.11204378306865692\n",
      "Validation_Accuracy: 0.6403999924659729\n",
      "Epoch 29, CIFAR-10 Batch 4:  loss: 0.08168071508407593\n",
      "Validation_Accuracy: 0.6477999091148376\n",
      "Epoch 29, CIFAR-10 Batch 5:  loss: 0.08699318766593933\n",
      "Validation_Accuracy: 0.6599999070167542\n",
      "Epoch 30, CIFAR-10 Batch 1:  loss: 0.1551739126443863\n",
      "Validation_Accuracy: 0.663399875164032\n",
      "Epoch 30, CIFAR-10 Batch 2:  loss: 0.09367073327302933\n",
      "Validation_Accuracy: 0.656799852848053\n",
      "Epoch 30, CIFAR-10 Batch 3:  loss: 0.06995166093111038\n",
      "Validation_Accuracy: 0.657599925994873\n",
      "Epoch 30, CIFAR-10 Batch 4:  loss: 0.0821528285741806\n",
      "Validation_Accuracy: 0.6519998908042908\n",
      "Epoch 30, CIFAR-10 Batch 5:  loss: 0.06642483174800873\n",
      "Validation_Accuracy: 0.6525998711585999\n",
      "Epoch 31, CIFAR-10 Batch 1:  loss: 0.14514285326004028\n",
      "Validation_Accuracy: 0.650999903678894\n",
      "Epoch 31, CIFAR-10 Batch 2:  loss: 0.06589849293231964\n",
      "Validation_Accuracy: 0.65559983253479\n",
      "Epoch 31, CIFAR-10 Batch 3:  loss: 0.06673652678728104\n",
      "Validation_Accuracy: 0.6491998434066772\n",
      "Epoch 31, CIFAR-10 Batch 4:  loss: 0.08679860830307007\n",
      "Validation_Accuracy: 0.6531999111175537\n",
      "Epoch 31, CIFAR-10 Batch 5:  loss: 0.07873035222291946\n",
      "Validation_Accuracy: 0.6511998772621155\n",
      "Epoch 32, CIFAR-10 Batch 1:  loss: 0.10511933267116547\n",
      "Validation_Accuracy: 0.6551998853683472\n",
      "Epoch 32, CIFAR-10 Batch 2:  loss: 0.06604385375976562\n",
      "Validation_Accuracy: 0.6463999152183533\n",
      "Epoch 32, CIFAR-10 Batch 3:  loss: 0.05538671091198921\n",
      "Validation_Accuracy: 0.6621999144554138\n",
      "Epoch 32, CIFAR-10 Batch 4:  loss: 0.08167912811040878\n",
      "Validation_Accuracy: 0.6471998691558838\n",
      "Epoch 32, CIFAR-10 Batch 5:  loss: 0.07484978437423706\n",
      "Validation_Accuracy: 0.6559998989105225\n"
     ]
    }
   ],
   "source": [
    "\"\"\"\n",
    "DON'T MODIFY ANYTHING IN THIS CELL\n",
    "\"\"\"\n",
    "save_model_path = './image_classification'\n",
    "\n",
    "print('Training...')\n",
    "with tf.Session() as sess:\n",
    "    # Initializing the variables\n",
    "    sess.run(tf.global_variables_initializer())\n",
    "    \n",
    "    # Training cycle\n",
    "    for epoch in range(epochs):\n",
    "        # Loop over all batches\n",
    "        n_batches = 5\n",
    "        for batch_i in range(1, n_batches + 1):\n",
    "            for batch_features, batch_labels in helper.load_preprocess_training_batch(batch_i, batch_size):\n",
    "                train_neural_network(sess, optimizer, keep_probability, batch_features, batch_labels)\n",
    "            print('Epoch {:>2}, CIFAR-10 Batch {}:  '.format(epoch + 1, batch_i), end='')\n",
    "            print_stats(sess, batch_features, batch_labels, cost, accuracy)\n",
    "            \n",
    "    # Save Model\n",
    "    saver = tf.train.Saver()\n",
    "    save_path = saver.save(sess, save_model_path)"
   ]
  },
  {
   "cell_type": "markdown",
   "metadata": {
    "deletable": true,
    "editable": true
   },
   "source": [
    "# Checkpoint\n",
    "The model has been saved to disk.\n",
    "## Test Model\n",
    "Test your model against the test dataset.  This will be your final accuracy. You should have an accuracy greater than 50%. If you don't, keep tweaking the model architecture and parameters."
   ]
  },
  {
   "cell_type": "code",
   "execution_count": 20,
   "metadata": {
    "collapsed": false,
    "deletable": true,
    "editable": true
   },
   "outputs": [
    {
     "name": "stdout",
     "output_type": "stream",
     "text": [
      "Testing Accuracy: 0.664754746835443\n",
      "\n"
     ]
    },
    {
     "data": {
      "image/png": "[encoded data removed]",
      "text/plain": [
       "<matplotlib.figure.Figure at 0x7f8ebfa45208>"
      ]
     },
     "metadata": {
      "image/png": {
       "height": 319,
       "width": 355
      }
     },
     "output_type": "display_data"
    }
   ],
   "source": [
    "\"\"\"\n",
    "DON'T MODIFY ANYTHING IN THIS CELL\n",
    "\"\"\"\n",
    "%matplotlib inline\n",
    "%config InlineBackend.figure_format = 'retina'\n",
    "\n",
    "import tensorflow as tf\n",
    "import pickle\n",
    "import helper\n",
    "import random\n",
    "\n",
    "# Set batch size if not already set\n",
    "try:\n",
    "    if batch_size:\n",
    "        pass\n",
    "except NameError:\n",
    "    batch_size = 64\n",
    "\n",
    "save_model_path = './image_classification'\n",
    "n_samples = 4\n",
    "top_n_predictions = 3\n",
    "\n",
    "def test_model():\n",
    "    \"\"\"\n",
    "    Test the saved model against the test dataset\n",
    "    \"\"\"\n",
    "\n",
    "    test_features, test_labels = pickle.load(open('preprocess_training.p', mode='rb'))\n",
    "    loaded_graph = tf.Graph()\n",
    "\n",
    "    with tf.Session(graph=loaded_graph) as sess:\n",
    "        # Load model\n",
    "        loader = tf.train.import_meta_graph(save_model_path + '.meta')\n",
    "        loader.restore(sess, save_model_path)\n",
    "\n",
    "        # Get Tensors from loaded model\n",
    "        loaded_x = loaded_graph.get_tensor_by_name('x:0')\n",
    "        loaded_y = loaded_graph.get_tensor_by_name('y:0')\n",
    "        loaded_keep_prob = loaded_graph.get_tensor_by_name('keep_prob:0')\n",
    "        loaded_logits = loaded_graph.get_tensor_by_name('logits:0')\n",
    "        loaded_acc = loaded_graph.get_tensor_by_name('accuracy:0')\n",
    "        \n",
    "        # Get accuracy in batches for memory limitations\n",
    "        test_batch_acc_total = 0\n",
    "        test_batch_count = 0\n",
    "        \n",
    "        for train_feature_batch, train_label_batch in helper.batch_features_labels(test_features, test_labels, batch_size):\n",
    "            test_batch_acc_total += sess.run(\n",
    "                loaded_acc,\n",
    "                feed_dict={loaded_x: train_feature_batch, loaded_y: train_label_batch, loaded_keep_prob: 1.0})\n",
    "            test_batch_count += 1\n",
    "\n",
    "        print('Testing Accuracy: {}\\n'.format(test_batch_acc_total/test_batch_count))\n",
    "\n",
    "        # Print Random Samples\n",
    "        random_test_features, random_test_labels = tuple(zip(*random.sample(list(zip(test_features, test_labels)), n_samples)))\n",
    "        random_test_predictions = sess.run(\n",
    "            tf.nn.top_k(tf.nn.softmax(loaded_logits), top_n_predictions),\n",
    "            feed_dict={loaded_x: random_test_features, loaded_y: random_test_labels, loaded_keep_prob: 1.0})\n",
    "        helper.display_image_predictions(random_test_features, random_test_labels, random_test_predictions)\n",
    "\n",
    "\n",
    "test_model()"
   ]
  },
  {
   "cell_type": "markdown",
   "metadata": {
    "deletable": true,
    "editable": true
   },
   "source": [
    "## Why 50-70% Accuracy?\n",
    "You might be wondering why you can't get an accuracy any higher. First things first, 50% isn't bad for a simple CNN.  Pure guessing would get you 10% accuracy. However, you might notice people are getting scores [well above 70%](http://rodrigob.github.io/are_we_there_yet/build/classification_datasets_results.html#43494641522d3130).  That's because we haven't taught you all there is to know about neural networks. We still need to cover a few more techniques.\n",
    "## Submitting This Project\n",
    "When submitting this project, make sure to run all the cells before saving the notebook.  Save the notebook file as \"dlnd_image_classification.ipynb\" and save it as a HTML file under \"File\" -> \"Download as\".  Include the \"helper.py\" and \"problem_unittests.py\" files in your submission."
   ]
  }
 ],
 "metadata": {
  "kernelspec": {
   "display_name": "Python 3",
   "language": "python",
   "name": "python3"
  },
  "language_info": {
   "codemirror_mode": {
    "name": "ipython",
    "version": 3
   },
   "file_extension": ".py",
   "mimetype": "text/x-python",
   "name": "python",
   "nbconvert_exporter": "python",
   "pygments_lexer": "ipython3",
   "version": "3.5.3"
  }
 },
 "nbformat": 4,
 "nbformat_minor": 0
}
