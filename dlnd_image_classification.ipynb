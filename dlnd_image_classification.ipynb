{
 "cells": [
  {
   "cell_type": "markdown",
   "metadata": {
    "collapsed": true,
    "deletable": true,
    "editable": true
   },
   "source": [
    "# Image Classification\n",
    "In this project, you'll classify images from the [CIFAR-10 dataset](https://www.cs.toronto.edu/~kriz/cifar.html).  The dataset consists of airplanes, dogs, cats, and other objects. You'll preprocess the images, then train a convolutional neural network on all the samples. The images need to be normalized and the labels need to be one-hot encoded.  You'll get to apply what you learned and build a convolutional, max pooling, dropout, and fully connected layers.  At the end, you'll get to see your neural network's predictions on the sample images.\n",
    "## Get the Data\n",
    "Run the following cell to download the [CIFAR-10 dataset for python](https://www.cs.toronto.edu/~kriz/cifar-10-python.tar.gz)."
   ]
  },
  {
   "cell_type": "code",
   "execution_count": 1,
   "metadata": {
    "collapsed": false,
    "deletable": true,
    "editable": true
   },
   "outputs": [
    {
     "name": "stdout",
     "output_type": "stream",
     "text": [
      "All files found!\n"
     ]
    }
   ],
   "source": [
    "\"\"\"\n",
    "DON'T MODIFY ANYTHING IN THIS CELL THAT IS BELOW THIS LINE\n",
    "\"\"\"\n",
    "from urllib.request import urlretrieve\n",
    "from os.path import isfile, isdir\n",
    "from tqdm import tqdm\n",
    "import problem_unittests as tests\n",
    "import tarfile\n",
    "\n",
    "cifar10_dataset_folder_path = 'cifar-10-batches-py'\n",
    "\n",
    "# Use Floyd's cifar-10 dataset if present\n",
    "floyd_cifar10_location = '/input/cifar-10/python.tar.gz'\n",
    "if isfile(floyd_cifar10_location):\n",
    "    tar_gz_path = floyd_cifar10_location\n",
    "else:\n",
    "    tar_gz_path = 'cifar-10-python.tar.gz'\n",
    "\n",
    "class DLProgress(tqdm):\n",
    "    last_block = 0\n",
    "\n",
    "    def hook(self, block_num=1, block_size=1, total_size=None):\n",
    "        self.total = total_size\n",
    "        self.update((block_num - self.last_block) * block_size)\n",
    "        self.last_block = block_num\n",
    "\n",
    "if not isfile(tar_gz_path):\n",
    "    with DLProgress(unit='B', unit_scale=True, miniters=1, desc='CIFAR-10 Dataset') as pbar:\n",
    "        urlretrieve(\n",
    "            'https://www.cs.toronto.edu/~kriz/cifar-10-python.tar.gz',\n",
    "            tar_gz_path,\n",
    "            pbar.hook)\n",
    "\n",
    "if not isdir(cifar10_dataset_folder_path):\n",
    "    with tarfile.open(tar_gz_path) as tar:\n",
    "        tar.extractall()\n",
    "        tar.close()\n",
    "\n",
    "\n",
    "tests.test_folder_path(cifar10_dataset_folder_path)"
   ]
  },
  {
   "cell_type": "markdown",
   "metadata": {
    "deletable": true,
    "editable": true
   },
   "source": [
    "## Explore the Data\n",
    "The dataset is broken into batches to prevent your machine from running out of memory.  The CIFAR-10 dataset consists of 5 batches, named `data_batch_1`, `data_batch_2`, etc.. Each batch contains the labels and images that are one of the following:\n",
    "* airplane\n",
    "* automobile\n",
    "* bird\n",
    "* cat\n",
    "* deer\n",
    "* dog\n",
    "* frog\n",
    "* horse\n",
    "* ship\n",
    "* truck\n",
    "\n",
    "Understanding a dataset is part of making predictions on the data.  Play around with the code cell below by changing the `batch_id` and `sample_id`. The `batch_id` is the id for a batch (1-5). The `sample_id` is the id for a image and label pair in the batch.\n",
    "\n",
    "Ask yourself \"What are all possible labels?\", \"What is the range of values for the image data?\", \"Are the labels in order or random?\".  Answers to questions like these will help you preprocess the data and end up with better predictions."
   ]
  },
  {
   "cell_type": "code",
   "execution_count": 2,
   "metadata": {
    "collapsed": false,
    "deletable": true,
    "editable": true
   },
   "outputs": [
    {
     "name": "stdout",
     "output_type": "stream",
     "text": [
      "\n",
      "Stats of batch 1:\n",
      "Samples: 10000\n",
      "Label Counts: {0: 1005, 1: 974, 2: 1032, 3: 1016, 4: 999, 5: 937, 6: 1030, 7: 1001, 8: 1025, 9: 981}\n",
      "First 20 Labels: [6, 9, 9, 4, 1, 1, 2, 7, 8, 3, 4, 7, 7, 2, 9, 9, 9, 3, 2, 6]\n",
      "\n",
      "Example of Image 5:\n",
      "Image - Min Value: 0 Max Value: 252\n",
      "Image - Shape: (32, 32, 3)\n",
      "Label - Label Id: 1 Name: automobile\n"
     ]
    },
    {
     "data": {
      "image/png": "[encoded data removed]",
      "text/plain": [
       "<matplotlib.figure.Figure at 0x7f2774157710>"
      ]
     },
     "metadata": {
      "image/png": {
       "height": 250,
       "width": 253
      }
     },
     "output_type": "display_data"
    }
   ],
   "source": [
    "%matplotlib inline\n",
    "%config InlineBackend.figure_format = 'retina'\n",
    "\n",
    "import helper\n",
    "import numpy as np\n",
    "\n",
    "# Explore the dataset\n",
    "batch_id = 1\n",
    "sample_id = 5\n",
    "helper.display_stats(cifar10_dataset_folder_path, batch_id, sample_id)"
   ]
  },
  {
   "cell_type": "markdown",
   "metadata": {
    "deletable": true,
    "editable": true
   },
   "source": [
    "## Implement Preprocess Functions\n",
    "### Normalize\n",
    "In the cell below, implement the `normalize` function to take in image data, `x`, and return it as a normalized Numpy array. The values should be in the range of 0 to 1, inclusive.  The return object should be the same shape as `x`."
   ]
  },
  {
   "cell_type": "code",
   "execution_count": 3,
   "metadata": {
    "collapsed": false,
    "deletable": true,
    "editable": true
   },
   "outputs": [
    {
     "name": "stdout",
     "output_type": "stream",
     "text": [
      "Tests Passed\n"
     ]
    }
   ],
   "source": [
    "def normalize(x):\n",
    "    \"\"\"\n",
    "    Normalize a list of sample image data in the range of 0 to 1\n",
    "    : x: List of image data.  The image shape is (32, 32, 3)\n",
    "    : return: Numpy array of normalize data\n",
    "    \"\"\"\n",
    "    # TODO: Implement Function\n",
    "    return np.array(x/255)\n",
    "\n",
    "\n",
    "\"\"\"\n",
    "DON'T MODIFY ANYTHING IN THIS CELL THAT IS BELOW THIS LINE\n",
    "\"\"\"\n",
    "tests.test_normalize(normalize)"
   ]
  },
  {
   "cell_type": "markdown",
   "metadata": {
    "deletable": true,
    "editable": true
   },
   "source": [
    "### One-hot encode\n",
    "Just like the previous code cell, you'll be implementing a function for preprocessing.  This time, you'll implement the `one_hot_encode` function. The input, `x`, are a list of labels.  Implement the function to return the list of labels as One-Hot encoded Numpy array.  The possible values for labels are 0 to 9. The one-hot encoding function should return the same encoding for each value between each call to `one_hot_encode`.  Make sure to save the map of encodings outside the function.\n",
    "\n",
    "Hint: Don't reinvent the wheel."
   ]
  },
  {
   "cell_type": "code",
   "execution_count": 8,
   "metadata": {
    "collapsed": false,
    "deletable": true,
    "editable": true
   },
   "outputs": [
    {
     "name": "stdout",
     "output_type": "stream",
     "text": [
      "Tests Passed\n"
     ]
    }
   ],
   "source": [
    "def one_hot_encode(x):\n",
    "    \"\"\"\n",
    "    One hot encode a list of sample labels. Return a one-hot encoded vector for each label.\n",
    "    : x: List of sample Labels\n",
    "    : return: Numpy array of one-hot encoded labels\n",
    "    \"\"\"\n",
    "    # TODO: Implement Function\n",
    "    return np.eye(10)[x]\n",
    "\n",
    "\n",
    "\"\"\"\n",
    "DON'T MODIFY ANYTHING IN THIS CELL THAT IS BELOW THIS LINE\n",
    "\"\"\"\n",
    "tests.test_one_hot_encode(one_hot_encode)"
   ]
  },
  {
   "cell_type": "markdown",
   "metadata": {
    "deletable": true,
    "editable": true
   },
   "source": [
    "### Randomize Data\n",
    "As you saw from exploring the data above, the order of the samples are randomized.  It doesn't hurt to randomize it again, but you don't need to for this dataset."
   ]
  },
  {
   "cell_type": "markdown",
   "metadata": {
    "deletable": true,
    "editable": true
   },
   "source": [
    "## Preprocess all the data and save it\n",
    "Running the code cell below will preprocess all the CIFAR-10 data and save it to file. The code below also uses 10% of the training data for validation."
   ]
  },
  {
   "cell_type": "code",
   "execution_count": 5,
   "metadata": {
    "collapsed": false,
    "deletable": true,
    "editable": true
   },
   "outputs": [],
   "source": [
    "\"\"\"\n",
    "DON'T MODIFY ANYTHING IN THIS CELL\n",
    "\"\"\"\n",
    "# Preprocess Training, Validation, and Testing Data\n",
    "helper.preprocess_and_save_data(cifar10_dataset_folder_path, normalize, one_hot_encode)"
   ]
  },
  {
   "cell_type": "markdown",
   "metadata": {
    "deletable": true,
    "editable": true
   },
   "source": [
    "# Check Point\n",
    "This is your first checkpoint.  If you ever decide to come back to this notebook or have to restart the notebook, you can start from here.  The preprocessed data has been saved to disk."
   ]
  },
  {
   "cell_type": "code",
   "execution_count": 6,
   "metadata": {
    "collapsed": true,
    "deletable": true,
    "editable": true
   },
   "outputs": [],
   "source": [
    "\"\"\"\n",
    "DON'T MODIFY ANYTHING IN THIS CELL\n",
    "\"\"\"\n",
    "import pickle\n",
    "import problem_unittests as tests\n",
    "import helper\n",
    "\n",
    "# Load the Preprocessed Validation data\n",
    "valid_features, valid_labels = pickle.load(open('preprocess_validation.p', mode='rb'))"
   ]
  },
  {
   "cell_type": "markdown",
   "metadata": {
    "deletable": true,
    "editable": true
   },
   "source": [
    "## Build the network\n",
    "For the neural network, you'll build each layer into a function.  Most of the code you've seen has been outside of functions. To test your code more thoroughly, we require that you put each layer in a function.  This allows us to give you better feedback and test for simple mistakes using our unittests before you submit your project.\n",
    "\n",
    ">**Note:** If you're finding it hard to dedicate enough time for this course each week, we've provided a small shortcut to this part of the project. In the next couple of problems, you'll have the option to use classes from the [TensorFlow Layers](https://www.tensorflow.org/api_docs/python/tf/layers) or [TensorFlow Layers (contrib)](https://www.tensorflow.org/api_guides/python/contrib.layers) packages to build each layer, except the layers you build in the \"Convolutional and Max Pooling Layer\" section.  TF Layers is similar to Keras's and TFLearn's abstraction to layers, so it's easy to pickup.\n",
    "\n",
    ">However, if you would like to get the most out of this course, try to solve all the problems _without_ using anything from the TF Layers packages. You **can** still use classes from other packages that happen to have the same name as ones you find in TF Layers! For example, instead of using the TF Layers version of the `conv2d` class, [tf.layers.conv2d](https://www.tensorflow.org/api_docs/python/tf/layers/conv2d), you would want to use the TF Neural Network version of `conv2d`, [tf.nn.conv2d](https://www.tensorflow.org/api_docs/python/tf/nn/conv2d). \n",
    "\n",
    "Let's begin!\n",
    "\n",
    "### Input\n",
    "The neural network needs to read the image data, one-hot encoded labels, and dropout keep probability. Implement the following functions\n",
    "* Implement `neural_net_image_input`\n",
    " * Return a [TF Placeholder](https://www.tensorflow.org/api_docs/python/tf/placeholder)\n",
    " * Set the shape using `image_shape` with batch size set to `None`.\n",
    " * Name the TensorFlow placeholder \"x\" using the TensorFlow `name` parameter in the [TF Placeholder](https://www.tensorflow.org/api_docs/python/tf/placeholder).\n",
    "* Implement `neural_net_label_input`\n",
    " * Return a [TF Placeholder](https://www.tensorflow.org/api_docs/python/tf/placeholder)\n",
    " * Set the shape using `n_classes` with batch size set to `None`.\n",
    " * Name the TensorFlow placeholder \"y\" using the TensorFlow `name` parameter in the [TF Placeholder](https://www.tensorflow.org/api_docs/python/tf/placeholder).\n",
    "* Implement `neural_net_keep_prob_input`\n",
    " * Return a [TF Placeholder](https://www.tensorflow.org/api_docs/python/tf/placeholder) for dropout keep probability.\n",
    " * Name the TensorFlow placeholder \"keep_prob\" using the TensorFlow `name` parameter in the [TF Placeholder](https://www.tensorflow.org/api_docs/python/tf/placeholder).\n",
    "\n",
    "These names will be used at the end of the project to load your saved model.\n",
    "\n",
    "Note: `None` for shapes in TensorFlow allow for a dynamic size."
   ]
  },
  {
   "cell_type": "code",
   "execution_count": 9,
   "metadata": {
    "collapsed": false,
    "deletable": true,
    "editable": true
   },
   "outputs": [
    {
     "name": "stdout",
     "output_type": "stream",
     "text": [
      "Image Input Tests Passed.\n",
      "Label Input Tests Passed.\n",
      "Keep Prob Tests Passed.\n"
     ]
    }
   ],
   "source": [
    "import tensorflow as tf\n",
    "\n",
    "def neural_net_image_input(image_shape):\n",
    "    \"\"\"\n",
    "    Return a Tensor for a bach of image input\n",
    "    : image_shape: Shape of the images\n",
    "    : return: Tensor for image input.\n",
    "    \"\"\"\n",
    "    # TODO: Implement Function\n",
    "    return tf.placeholder(tf.float32, shape=[None,image_shape[0],image_shape[1],image_shape[2]],name = 'x')\n",
    "\n",
    "\n",
    "def neural_net_label_input(n_classes):\n",
    "    \"\"\"\n",
    "    Return a Tensor for a batch of label input\n",
    "    : n_classes: Number of classes\n",
    "    : return: Tensor for label input.\n",
    "    \"\"\"\n",
    "    # TODO: Implement Function\n",
    "    return tf.placeholder(tf.float32, shape=[None,n_classes], name = 'y')\n",
    "\n",
    "\n",
    "def neural_net_keep_prob_input():\n",
    "    \"\"\"\n",
    "    Return a Tensor for keep probability\n",
    "    : return: Tensor for keep probability.\n",
    "    \"\"\"\n",
    "    # TODO: Implement Function\n",
    "    return tf.placeholder(tf.float32,name='keep_prob')\n",
    "\n",
    "\n",
    "\"\"\"\n",
    "DON'T MODIFY ANYTHING IN THIS CELL THAT IS BELOW THIS LINE\n",
    "\"\"\"\n",
    "tf.reset_default_graph()\n",
    "tests.test_nn_image_inputs(neural_net_image_input)\n",
    "tests.test_nn_label_inputs(neural_net_label_input)\n",
    "tests.test_nn_keep_prob_inputs(neural_net_keep_prob_input)"
   ]
  },
  {
   "cell_type": "markdown",
   "metadata": {
    "deletable": true,
    "editable": true
   },
   "source": [
    "### Convolution and Max Pooling Layer\n",
    "Convolution layers have a lot of success with images. For this code cell, you should implement the function `conv2d_maxpool` to apply convolution then max pooling:\n",
    "* Create the weight and bias using `conv_ksize`, `conv_num_outputs` and the shape of `x_tensor`.\n",
    "* Apply a convolution to `x_tensor` using weight and `conv_strides`.\n",
    " * We recommend you use same padding, but you're welcome to use any padding.\n",
    "* Add bias\n",
    "* Add a nonlinear activation to the convolution.\n",
    "* Apply Max Pooling using `pool_ksize` and `pool_strides`.\n",
    " * We recommend you use same padding, but you're welcome to use any padding.\n",
    "\n",
    "**Note:** You **can't** use [TensorFlow Layers](https://www.tensorflow.org/api_docs/python/tf/layers) or [TensorFlow Layers (contrib)](https://www.tensorflow.org/api_guides/python/contrib.layers) for **this** layer, but you can still use TensorFlow's [Neural Network](https://www.tensorflow.org/api_docs/python/tf/nn) package. You may still use the shortcut option for all the **other** layers."
   ]
  },
  {
   "cell_type": "code",
   "execution_count": 16,
   "metadata": {
    "collapsed": false,
    "deletable": true,
    "editable": true
   },
   "outputs": [
    {
     "name": "stdout",
     "output_type": "stream",
     "text": [
      "Tests Passed\n"
     ]
    }
   ],
   "source": [
    "def conv2d_maxpool(x_tensor, conv_num_outputs, conv_ksize, conv_strides, pool_ksize, pool_strides):\n",
    "    \"\"\"\n",
    "    Apply convolution then max pooling to x_tensor\n",
    "    :param x_tensor: TensorFlow Tensor\n",
    "    :param conv_num_outputs: Number of outputs for the convolutional layer\n",
    "    :param conv_ksize: kernal size 2-D Tuple for the convolutional layer\n",
    "    :param conv_strides: Stride 2-D Tuple for convolution\n",
    "    :param pool_ksize: kernal size 2-D Tuple for pool\n",
    "    :param pool_strides: Stride 2-D Tuple for pool\n",
    "    : return: A tensor that represents convolution and max pooling of x_tensor\n",
    "    \"\"\"\n",
    "    # TODO: Implement Function\n",
    "    conv_num_inputs = x_tensor.get_shape().as_list()[3]\n",
    "    ksize = [1,conv_ksize[0],conv_ksize[1],1]\n",
    "    weights = tf.Variable(tf.truncated_normal([ksize[0],ksize[1],conv_num_inputs,conv_num_outputs], stddev=0.1))\n",
    "    biases = tf.Variable(tf.zeros(conv_num_outputs,dtype=tf.float32))\n",
    "    \n",
    "    strides = [1,conv_strides[0],conv_strides[1],1]\n",
    "    pool_ksize = [1,pool_ksize[0],pool_ksize[1],1]\n",
    "    pool_strides = [1,pool_strides[0],pool_strides[1],1]\n",
    "    \n",
    "    covnet_layer = tf.nn.conv2d(x_tensor,weights,strides=strides,padding='SAME')\n",
    "    covnet_layer = tf.nn.bias_add(covnet_layer,biases)\n",
    "    covnet_layer = tf.nn.relu(covnet_layer)\n",
    "    maxpool_layer = tf.nn.max_pool(covnet_layer,ksize=pool_ksize,strides=pool_strides,padding='SAME')\n",
    "    \n",
    "    return maxpool_layer \n",
    "\n",
    "\n",
    "\"\"\"\n",
    "DON'T MODIFY ANYTHING IN THIS CELL THAT IS BELOW THIS LINE\n",
    "\"\"\"\n",
    "tests.test_con_pool(conv2d_maxpool)"
   ]
  },
  {
   "cell_type": "markdown",
   "metadata": {
    "deletable": true,
    "editable": true
   },
   "source": [
    "### Flatten Layer\n",
    "Implement the `flatten` function to change the dimension of `x_tensor` from a 4-D tensor to a 2-D tensor.  The output should be the shape (*Batch Size*, *Flattened Image Size*). Shortcut option: you can use classes from the [TensorFlow Layers](https://www.tensorflow.org/api_docs/python/tf/layers) or [TensorFlow Layers (contrib)](https://www.tensorflow.org/api_guides/python/contrib.layers) packages for this layer. For more of a challenge, only use other TensorFlow packages."
   ]
  },
  {
   "cell_type": "code",
   "execution_count": 17,
   "metadata": {
    "collapsed": false,
    "deletable": true,
    "editable": true
   },
   "outputs": [
    {
     "name": "stdout",
     "output_type": "stream",
     "text": [
      "Tests Passed\n"
     ]
    }
   ],
   "source": [
    "def flatten(x_tensor):\n",
    "    \"\"\"\n",
    "    Flatten x_tensor to (Batch Size, Flattened Image Size)\n",
    "    : x_tensor: A tensor of size (Batch Size, ...), where ... are the image dimensions.\n",
    "    : return: A tensor of size (Batch Size, Flattened Image Size).\n",
    "    \"\"\"\n",
    "    # TODO: Implement Function\n",
    "    # used from https://www.tensorflow.org/api_docs/python/tf/contrib/layers/flatten\n",
    "    return tf.contrib.layers.flatten(x_tensor)\n",
    "\n",
    "\n",
    "\"\"\"\n",
    "DON'T MODIFY ANYTHING IN THIS CELL THAT IS BELOW THIS LINE\n",
    "\"\"\"\n",
    "tests.test_flatten(flatten)"
   ]
  },
  {
   "cell_type": "markdown",
   "metadata": {
    "deletable": true,
    "editable": true
   },
   "source": [
    "### Fully-Connected Layer\n",
    "Implement the `fully_conn` function to apply a fully connected layer to `x_tensor` with the shape (*Batch Size*, *num_outputs*). Shortcut option: you can use classes from the [TensorFlow Layers](https://www.tensorflow.org/api_docs/python/tf/layers) or [TensorFlow Layers (contrib)](https://www.tensorflow.org/api_guides/python/contrib.layers) packages for this layer. For more of a challenge, only use other TensorFlow packages."
   ]
  },
  {
   "cell_type": "code",
   "execution_count": 18,
   "metadata": {
    "collapsed": false,
    "deletable": true,
    "editable": true
   },
   "outputs": [
    {
     "name": "stdout",
     "output_type": "stream",
     "text": [
      "Tests Passed\n"
     ]
    }
   ],
   "source": [
    "def fully_conn(x_tensor, num_outputs):\n",
    "    \"\"\"\n",
    "    Apply a fully connected layer to x_tensor using weight and bias\n",
    "    : x_tensor: A 2-D tensor where the first dimension is batch size.\n",
    "    : num_outputs: The number of output that the new tensor should be.\n",
    "    : return: A 2-D tensor where the second dimension is num_outputs.\n",
    "    \"\"\"\n",
    "    # TODO: Implement Function\n",
    "    #https://www.tensorflow.org/api_docs/python/tf/contrib/layers/fully_connected\n",
    "    \n",
    "    return tf.contrib.layers.fully_connected(x_tensor,num_outputs=num_outputs)\n",
    "\n",
    "\n",
    "\"\"\"\n",
    "DON'T MODIFY ANYTHING IN THIS CELL THAT IS BELOW THIS LINE\n",
    "\"\"\"\n",
    "tests.test_fully_conn(fully_conn)"
   ]
  },
  {
   "cell_type": "markdown",
   "metadata": {
    "deletable": true,
    "editable": true
   },
   "source": [
    "### Output Layer\n",
    "Implement the `output` function to apply a fully connected layer to `x_tensor` with the shape (*Batch Size*, *num_outputs*). Shortcut option: you can use classes from the [TensorFlow Layers](https://www.tensorflow.org/api_docs/python/tf/layers) or [TensorFlow Layers (contrib)](https://www.tensorflow.org/api_guides/python/contrib.layers) packages for this layer. For more of a challenge, only use other TensorFlow packages.\n",
    "\n",
    "**Note:** Activation, softmax, or cross entropy should **not** be applied to this."
   ]
  },
  {
   "cell_type": "code",
   "execution_count": 19,
   "metadata": {
    "collapsed": false,
    "deletable": true,
    "editable": true
   },
   "outputs": [
    {
     "name": "stdout",
     "output_type": "stream",
     "text": [
      "Tests Passed\n"
     ]
    }
   ],
   "source": [
    "def output(x_tensor, num_outputs):\n",
    "    \"\"\"\n",
    "    Apply a output layer to x_tensor using weight and bias\n",
    "    : x_tensor: A 2-D tensor where the first dimension is batch size.\n",
    "    : num_outputs: The number of output that the new tensor should be.\n",
    "    : return: A 2-D tensor where the second dimension is num_outputs.\n",
    "    \"\"\"\n",
    "    # TODO: Implement Function\n",
    "    return tf.contrib.layers.fully_connected(x_tensor,num_outputs=num_outputs)\n",
    "\n",
    "\n",
    "\"\"\"\n",
    "DON'T MODIFY ANYTHING IN THIS CELL THAT IS BELOW THIS LINE\n",
    "\"\"\"\n",
    "tests.test_output(output)"
   ]
  },
  {
   "cell_type": "markdown",
   "metadata": {
    "deletable": true,
    "editable": true
   },
   "source": [
    "### Create Convolutional Model\n",
    "Implement the function `conv_net` to create a convolutional neural network model. The function takes in a batch of images, `x`, and outputs logits.  Use the layers you created above to create this model:\n",
    "\n",
    "* Apply 1, 2, or 3 Convolution and Max Pool layers\n",
    "* Apply a Flatten Layer\n",
    "* Apply 1, 2, or 3 Fully Connected Layers\n",
    "* Apply an Output Layer\n",
    "* Return the output\n",
    "* Apply [TensorFlow's Dropout](https://www.tensorflow.org/api_docs/python/tf/nn/dropout) to one or more layers in the model using `keep_prob`. "
   ]
  },
  {
   "cell_type": "code",
   "execution_count": 20,
   "metadata": {
    "collapsed": false,
    "deletable": true,
    "editable": true
   },
   "outputs": [
    {
     "name": "stdout",
     "output_type": "stream",
     "text": [
      "Neural Network Built!\n"
     ]
    }
   ],
   "source": [
    "def conv_net(x, keep_prob):\n",
    "    \"\"\"\n",
    "    Create a convolutional neural network model\n",
    "    : x: Placeholder tensor that holds image data.\n",
    "    : keep_prob: Placeholder tensor that hold dropout keep probability.\n",
    "    : return: Tensor that represents logits\n",
    "    \"\"\"\n",
    "    # TODO: Apply 1, 2, or 3 Convolution and Max Pool layers\n",
    "    #    Play around with different number of outputs, kernel size and stride\n",
    "    # Function Definition from Above:\n",
    "    #    conv2d_maxpool(x_tensor, conv_num_outputs, conv_ksize, conv_strides, pool_ksize, pool_strides)\n",
    "    conv_ksize = [5,5]\n",
    "    conv_strides = [1,1]\n",
    "    pool_ksize = [2,2]\n",
    "    pool_strides = [2,2]\n",
    "    conv_layer_1 = conv2d_maxpool(x, 32, conv_ksize, conv_strides, pool_ksize, pool_strides)\n",
    "    conv_layer_2 = conv2d_maxpool(conv_layer_1, 64, conv_ksize, conv_strides, pool_ksize, pool_strides)\n",
    "    conv_layer_3 = conv2d_maxpool(conv_layer_2, 128, conv_ksize, conv_strides, pool_ksize, pool_strides)\n",
    "\n",
    "    # TODO: Apply a Flatten Layer\n",
    "    # Function Definition from Above:\n",
    "    #   flatten(x_tensor)\n",
    "    flatten_layer = flatten(conv_layer_3)\n",
    "    \n",
    "    \n",
    "\n",
    "    # TODO: Apply 1, 2, or 3 Fully Connected Layers\n",
    "    #    Play around with different number of outputs\n",
    "    # Function Definition from Above:\n",
    "    #   fully_conn(x_tensor, num_outputs)\n",
    "    fc1_layer = fully_conn(flatten_layer,120)\n",
    "    fc1_drop = tf.nn.dropout(fc1_layer,keep_prob=keep_prob)\n",
    "    fc2_layer = fully_conn(fc1_drop,120)\n",
    "    fc2_drop = tf.nn.dropout(fc2_layer,keep_prob=keep_prob)\n",
    "    fc3_layer = fully_conn(fc2_drop,120)\n",
    "    \n",
    "    \n",
    "    # TODO: Apply an Output Layer\n",
    "    #    Set this to the number of classes\n",
    "    # Function Definition from Above:\n",
    "    #   output(x_tensor, num_outputs)\n",
    "    \n",
    "    output_layer = output(fc3_layer,10)\n",
    "    \n",
    "    \n",
    "    # TODO: return output\n",
    "    return output_layer\n",
    "\n",
    "\n",
    "\"\"\"\n",
    "DON'T MODIFY ANYTHING IN THIS CELL THAT IS BELOW THIS LINE\n",
    "\"\"\"\n",
    "\n",
    "##############################\n",
    "## Build the Neural Network ##\n",
    "##############################\n",
    "\n",
    "# Remove previous weights, bias, inputs, etc..\n",
    "tf.reset_default_graph()\n",
    "\n",
    "# Inputs\n",
    "x = neural_net_image_input((32, 32, 3))\n",
    "y = neural_net_label_input(10)\n",
    "keep_prob = neural_net_keep_prob_input()\n",
    "\n",
    "# Model\n",
    "logits = conv_net(x, keep_prob)\n",
    "\n",
    "# Name logits Tensor, so that is can be loaded from disk after training\n",
    "logits = tf.identity(logits, name='logits')\n",
    "\n",
    "# Loss and Optimizer\n",
    "cost = tf.reduce_mean(tf.nn.softmax_cross_entropy_with_logits(logits=logits, labels=y))\n",
    "optimizer = tf.train.AdamOptimizer().minimize(cost)\n",
    "\n",
    "# Accuracy\n",
    "correct_pred = tf.equal(tf.argmax(logits, 1), tf.argmax(y, 1))\n",
    "accuracy = tf.reduce_mean(tf.cast(correct_pred, tf.float32), name='accuracy')\n",
    "\n",
    "tests.test_conv_net(conv_net)"
   ]
  },
  {
   "cell_type": "markdown",
   "metadata": {
    "deletable": true,
    "editable": true
   },
   "source": [
    "## Train the Neural Network\n",
    "### Single Optimization\n",
    "Implement the function `train_neural_network` to do a single optimization.  The optimization should use `optimizer` to optimize in `session` with a `feed_dict` of the following:\n",
    "* `x` for image input\n",
    "* `y` for labels\n",
    "* `keep_prob` for keep probability for dropout\n",
    "\n",
    "This function will be called for each batch, so `tf.global_variables_initializer()` has already been called.\n",
    "\n",
    "Note: Nothing needs to be returned. This function is only optimizing the neural network."
   ]
  },
  {
   "cell_type": "code",
   "execution_count": 21,
   "metadata": {
    "collapsed": false,
    "deletable": true,
    "editable": true
   },
   "outputs": [
    {
     "name": "stdout",
     "output_type": "stream",
     "text": [
      "Tests Passed\n"
     ]
    }
   ],
   "source": [
    "def train_neural_network(session, optimizer, keep_probability, feature_batch, label_batch):\n",
    "    \"\"\"\n",
    "    Optimize the session on a batch of images and labels\n",
    "    : session: Current TensorFlow session\n",
    "    : optimizer: TensorFlow optimizer function\n",
    "    : keep_probability: keep probability\n",
    "    : feature_batch: Batch of Numpy image data\n",
    "    : label_batch: Batch of Numpy label data\n",
    "    \"\"\"\n",
    "    # TODO: Implement Function\n",
    "    session.run(optimizer,feed_dict={keep_prob:keep_probability,x:feature_batch,y:label_batch})\n",
    "\n",
    "\n",
    "\"\"\"\n",
    "DON'T MODIFY ANYTHING IN THIS CELL THAT IS BELOW THIS LINE\n",
    "\"\"\"\n",
    "tests.test_train_nn(train_neural_network)"
   ]
  },
  {
   "cell_type": "markdown",
   "metadata": {
    "deletable": true,
    "editable": true
   },
   "source": [
    "### Show Stats\n",
    "Implement the function `print_stats` to print loss and validation accuracy.  Use the global variables `valid_features` and `valid_labels` to calculate validation accuracy.  Use a keep probability of `1.0` to calculate the loss and validation accuracy."
   ]
  },
  {
   "cell_type": "code",
   "execution_count": 23,
   "metadata": {
    "collapsed": false,
    "deletable": true,
    "editable": true
   },
   "outputs": [],
   "source": [
    "def print_stats(session, feature_batch, label_batch, cost, accuracy):\n",
    "    \"\"\"\n",
    "    Print information about loss and validation accuracy\n",
    "    : session: Current TensorFlow session\n",
    "    : feature_batch: Batch of Numpy image data\n",
    "    : label_batch: Batch of Numpy label data\n",
    "    : cost: TensorFlow cost function\n",
    "    : accuracy: TensorFlow accuracy function\n",
    "    \"\"\"\n",
    "    # TODO: Implement Function\n",
    "    accuracy =  session.run(accuracy,feed_dict={keep_prob:1.0, x:feature_batch, y:label_batch})\n",
    "    loss = session.run(cost,feed_dict={keep_prob:1.0, x:feature_batch, y:label_batch})\n",
    "    print (\"loss: {}\".format(loss))\n",
    "    print (\"Accuracy: {}\".format(accuracy))\n"
   ]
  },
  {
   "cell_type": "markdown",
   "metadata": {
    "deletable": true,
    "editable": true
   },
   "source": [
    "### Hyperparameters\n",
    "Tune the following parameters:\n",
    "* Set `epochs` to the number of iterations until the network stops learning or start overfitting\n",
    "* Set `batch_size` to the highest number that your machine has memory for.  Most people set them to common sizes of memory:\n",
    " * 64\n",
    " * 128\n",
    " * 256\n",
    " * ...\n",
    "* Set `keep_probability` to the probability of keeping a node using dropout"
   ]
  },
  {
   "cell_type": "code",
   "execution_count": 24,
   "metadata": {
    "collapsed": true,
    "deletable": true,
    "editable": true
   },
   "outputs": [],
   "source": [
    "# TODO: Tune Parameters\n",
    "epochs = 32\n",
    "batch_size = 128\n",
    "keep_probability = 0.7"
   ]
  },
  {
   "cell_type": "markdown",
   "metadata": {
    "deletable": true,
    "editable": true
   },
   "source": [
    "### Train on a Single CIFAR-10 Batch\n",
    "Instead of training the neural network on all the CIFAR-10 batches of data, let's use a single batch. This should save time while you iterate on the model to get a better accuracy.  Once the final validation accuracy is 50% or greater, run the model on all the data in the next section."
   ]
  },
  {
   "cell_type": "code",
   "execution_count": 25,
   "metadata": {
    "collapsed": false,
    "deletable": true,
    "editable": true
   },
   "outputs": [
    {
     "name": "stdout",
     "output_type": "stream",
     "text": [
      "Checking the Training on a Single Batch...\n",
      "Epoch  1, CIFAR-10 Batch 1:  loss: 2.1636404991149902\n",
      "Accuracy: 0.25\n",
      "Epoch  2, CIFAR-10 Batch 1:  loss: 1.8881818056106567\n",
      "Accuracy: 0.3499999940395355\n",
      "Epoch  3, CIFAR-10 Batch 1:  loss: 1.744095802307129\n",
      "Accuracy: 0.4000000059604645\n",
      "Epoch  4, CIFAR-10 Batch 1:  loss: 1.5800795555114746\n",
      "Accuracy: 0.42499998211860657\n",
      "Epoch  5, CIFAR-10 Batch 1:  loss: 1.437494158744812\n",
      "Accuracy: 0.5249999761581421\n",
      "Epoch  6, CIFAR-10 Batch 1:  loss: 1.339023470878601\n",
      "Accuracy: 0.5249999761581421\n",
      "Epoch  7, CIFAR-10 Batch 1:  loss: 1.1774377822875977\n",
      "Accuracy: 0.625\n",
      "Epoch  8, CIFAR-10 Batch 1:  loss: 1.0593593120574951\n",
      "Accuracy: 0.6000000238418579\n",
      "Epoch  9, CIFAR-10 Batch 1:  loss: 0.938836932182312\n",
      "Accuracy: 0.7250000238418579\n",
      "Epoch 10, CIFAR-10 Batch 1:  loss: 0.8809130787849426\n",
      "Accuracy: 0.7250000238418579\n",
      "Epoch 11, CIFAR-10 Batch 1:  loss: 0.7586333155632019\n",
      "Accuracy: 0.7250000238418579\n",
      "Epoch 12, CIFAR-10 Batch 1:  loss: 0.743586540222168\n",
      "Accuracy: 0.6750000715255737\n",
      "Epoch 13, CIFAR-10 Batch 1:  loss: 0.736967921257019\n",
      "Accuracy: 0.7250000238418579\n",
      "Epoch 14, CIFAR-10 Batch 1:  loss: 0.6640765070915222\n",
      "Accuracy: 0.75\n",
      "Epoch 15, CIFAR-10 Batch 1:  loss: 0.5652493238449097\n",
      "Accuracy: 0.8000000715255737\n",
      "Epoch 16, CIFAR-10 Batch 1:  loss: 0.5429621934890747\n",
      "Accuracy: 0.8250000476837158\n",
      "Epoch 17, CIFAR-10 Batch 1:  loss: 0.5315948128700256\n",
      "Accuracy: 0.8000000715255737\n",
      "Epoch 18, CIFAR-10 Batch 1:  loss: 0.5131786465644836\n",
      "Accuracy: 0.7750000357627869\n",
      "Epoch 19, CIFAR-10 Batch 1:  loss: 0.5363119840621948\n",
      "Accuracy: 0.8000000715255737\n",
      "Epoch 20, CIFAR-10 Batch 1:  loss: 0.4373454749584198\n",
      "Accuracy: 0.8500000238418579\n",
      "Epoch 21, CIFAR-10 Batch 1:  loss: 0.4538964033126831\n",
      "Accuracy: 0.824999988079071\n",
      "Epoch 22, CIFAR-10 Batch 1:  loss: 0.3771028220653534\n",
      "Accuracy: 0.8250000476837158\n",
      "Epoch 23, CIFAR-10 Batch 1:  loss: 0.3046162724494934\n",
      "Accuracy: 0.8500000238418579\n",
      "Epoch 24, CIFAR-10 Batch 1:  loss: 0.33209943771362305\n",
      "Accuracy: 0.925000011920929\n",
      "Epoch 25, CIFAR-10 Batch 1:  loss: 0.2935541272163391\n",
      "Accuracy: 0.9749999642372131\n",
      "Epoch 26, CIFAR-10 Batch 1:  loss: 0.29116004705429077\n",
      "Accuracy: 0.949999988079071\n",
      "Epoch 27, CIFAR-10 Batch 1:  loss: 0.260181188583374\n",
      "Accuracy: 0.9000000357627869\n",
      "Epoch 28, CIFAR-10 Batch 1:  loss: 0.246159166097641\n",
      "Accuracy: 0.925000011920929\n",
      "Epoch 29, CIFAR-10 Batch 1:  loss: 0.2329954206943512\n",
      "Accuracy: 0.925000011920929\n",
      "Epoch 30, CIFAR-10 Batch 1:  loss: 0.20541411638259888\n",
      "Accuracy: 0.925000011920929\n",
      "Epoch 31, CIFAR-10 Batch 1:  loss: 0.2153761386871338\n",
      "Accuracy: 0.925000011920929\n",
      "Epoch 32, CIFAR-10 Batch 1:  loss: 0.20755644142627716\n",
      "Accuracy: 0.949999988079071\n"
     ]
    }
   ],
   "source": [
    "\"\"\"\n",
    "DON'T MODIFY ANYTHING IN THIS CELL\n",
    "\"\"\"\n",
    "print('Checking the Training on a Single Batch...')\n",
    "with tf.Session() as sess:\n",
    "    # Initializing the variables\n",
    "    sess.run(tf.global_variables_initializer())\n",
    "    \n",
    "    # Training cycle\n",
    "    for epoch in range(epochs):\n",
    "        batch_i = 1\n",
    "        for batch_features, batch_labels in helper.load_preprocess_training_batch(batch_i, batch_size):\n",
    "            train_neural_network(sess, optimizer, keep_probability, batch_features, batch_labels)\n",
    "        print('Epoch {:>2}, CIFAR-10 Batch {}:  '.format(epoch + 1, batch_i), end='')\n",
    "        print_stats(sess, batch_features, batch_labels, cost, accuracy)"
   ]
  },
  {
   "cell_type": "markdown",
   "metadata": {
    "deletable": true,
    "editable": true
   },
   "source": [
    "### Fully Train the Model\n",
    "Now that you got a good accuracy with a single CIFAR-10 batch, try it with all five batches."
   ]
  },
  {
   "cell_type": "code",
   "execution_count": 26,
   "metadata": {
    "collapsed": false,
    "deletable": true,
    "editable": true
   },
   "outputs": [
    {
     "name": "stdout",
     "output_type": "stream",
     "text": [
      "Training...\n",
      "Epoch  1, CIFAR-10 Batch 1:  loss: 2.2131261825561523\n",
      "Accuracy: 0.20000001788139343\n",
      "Epoch  1, CIFAR-10 Batch 2:  loss: 1.8741910457611084\n",
      "Accuracy: 0.375\n",
      "Epoch  1, CIFAR-10 Batch 3:  loss: 1.4600261449813843\n",
      "Accuracy: 0.42500001192092896\n",
      "Epoch  1, CIFAR-10 Batch 4:  loss: 1.5343266725540161\n",
      "Accuracy: 0.44999998807907104\n",
      "Epoch  1, CIFAR-10 Batch 5:  loss: 1.5751323699951172\n",
      "Accuracy: 0.5\n",
      "Epoch  2, CIFAR-10 Batch 1:  loss: 1.5285894870758057\n",
      "Accuracy: 0.5249999761581421\n",
      "Epoch  2, CIFAR-10 Batch 2:  loss: 1.3907196521759033\n",
      "Accuracy: 0.44999998807907104\n",
      "Epoch  2, CIFAR-10 Batch 3:  loss: 1.0780529975891113\n",
      "Accuracy: 0.550000011920929\n",
      "Epoch  2, CIFAR-10 Batch 4:  loss: 1.202498435974121\n",
      "Accuracy: 0.5750000476837158\n",
      "Epoch  2, CIFAR-10 Batch 5:  loss: 1.3361988067626953\n",
      "Accuracy: 0.5750000476837158\n",
      "Epoch  3, CIFAR-10 Batch 1:  loss: 1.3716106414794922\n",
      "Accuracy: 0.6000000238418579\n",
      "Epoch  3, CIFAR-10 Batch 2:  loss: 1.1993284225463867\n",
      "Accuracy: 0.4750000238418579\n",
      "Epoch  3, CIFAR-10 Batch 3:  loss: 1.0715126991271973\n",
      "Accuracy: 0.574999988079071\n",
      "Epoch  3, CIFAR-10 Batch 4:  loss: 1.0243957042694092\n",
      "Accuracy: 0.550000011920929\n",
      "Epoch  3, CIFAR-10 Batch 5:  loss: 1.1753065586090088\n",
      "Accuracy: 0.5750000476837158\n",
      "Epoch  4, CIFAR-10 Batch 1:  loss: 1.2215576171875\n",
      "Accuracy: 0.6000000238418579\n",
      "Epoch  4, CIFAR-10 Batch 2:  loss: 1.0127809047698975\n",
      "Accuracy: 0.6000000238418579\n",
      "Epoch  4, CIFAR-10 Batch 3:  loss: 0.9961546063423157\n",
      "Accuracy: 0.6000000238418579\n",
      "Epoch  4, CIFAR-10 Batch 4:  loss: 0.8682245016098022\n",
      "Accuracy: 0.7000000476837158\n",
      "Epoch  4, CIFAR-10 Batch 5:  loss: 1.0347553491592407\n",
      "Accuracy: 0.6499999761581421\n",
      "Epoch  5, CIFAR-10 Batch 1:  loss: 1.246692419052124\n",
      "Accuracy: 0.574999988079071\n",
      "Epoch  5, CIFAR-10 Batch 2:  loss: 0.9194244146347046\n",
      "Accuracy: 0.7250000238418579\n",
      "Epoch  5, CIFAR-10 Batch 3:  loss: 0.8648475408554077\n",
      "Accuracy: 0.7000000476837158\n",
      "Epoch  5, CIFAR-10 Batch 4:  loss: 0.7534184455871582\n",
      "Accuracy: 0.7750000357627869\n",
      "Epoch  5, CIFAR-10 Batch 5:  loss: 0.940015435218811\n",
      "Accuracy: 0.6499999761581421\n",
      "Epoch  6, CIFAR-10 Batch 1:  loss: 1.0920977592468262\n",
      "Accuracy: 0.625\n",
      "Epoch  6, CIFAR-10 Batch 2:  loss: 0.7262980341911316\n",
      "Accuracy: 0.7250000238418579\n",
      "Epoch  6, CIFAR-10 Batch 3:  loss: 0.701249897480011\n",
      "Accuracy: 0.7750000357627869\n",
      "Epoch  6, CIFAR-10 Batch 4:  loss: 0.7222758531570435\n",
      "Accuracy: 0.75\n",
      "Epoch  6, CIFAR-10 Batch 5:  loss: 0.8225110769271851\n",
      "Accuracy: 0.7000000476837158\n",
      "Epoch  7, CIFAR-10 Batch 1:  loss: 1.0118906497955322\n",
      "Accuracy: 0.6499999761581421\n",
      "Epoch  7, CIFAR-10 Batch 2:  loss: 0.6897889971733093\n",
      "Accuracy: 0.7250000238418579\n",
      "Epoch  7, CIFAR-10 Batch 3:  loss: 0.6048334836959839\n",
      "Accuracy: 0.8750000596046448\n",
      "Epoch  7, CIFAR-10 Batch 4:  loss: 0.6280860304832458\n",
      "Accuracy: 0.7250000238418579\n",
      "Epoch  7, CIFAR-10 Batch 5:  loss: 0.6877046227455139\n",
      "Accuracy: 0.7750000357627869\n",
      "Epoch  8, CIFAR-10 Batch 1:  loss: 0.9102985858917236\n",
      "Accuracy: 0.7000000476837158\n",
      "Epoch  8, CIFAR-10 Batch 2:  loss: 0.5823558568954468\n",
      "Accuracy: 0.8000000715255737\n",
      "Epoch  8, CIFAR-10 Batch 3:  loss: 0.5851799249649048\n",
      "Accuracy: 0.8500000238418579\n",
      "Epoch  8, CIFAR-10 Batch 4:  loss: 0.537511944770813\n",
      "Accuracy: 0.8500000238418579\n",
      "Epoch  8, CIFAR-10 Batch 5:  loss: 0.6998406648635864\n",
      "Accuracy: 0.8250000476837158\n",
      "Epoch  9, CIFAR-10 Batch 1:  loss: 0.8971677422523499\n",
      "Accuracy: 0.6749999523162842\n",
      "Epoch  9, CIFAR-10 Batch 2:  loss: 0.5916215777397156\n",
      "Accuracy: 0.8500000238418579\n",
      "Epoch  9, CIFAR-10 Batch 3:  loss: 0.505431056022644\n",
      "Accuracy: 0.8750000596046448\n",
      "Epoch  9, CIFAR-10 Batch 4:  loss: 0.5099904537200928\n",
      "Accuracy: 0.8250000476837158\n",
      "Epoch  9, CIFAR-10 Batch 5:  loss: 0.6197011470794678\n",
      "Accuracy: 0.7749999761581421\n",
      "Epoch 10, CIFAR-10 Batch 1:  loss: 0.8943486213684082\n",
      "Accuracy: 0.7000000476837158\n",
      "Epoch 10, CIFAR-10 Batch 2:  loss: 0.4862717390060425\n",
      "Accuracy: 0.8750000596046448\n",
      "Epoch 10, CIFAR-10 Batch 3:  loss: 0.49600180983543396\n",
      "Accuracy: 0.8500000238418579\n",
      "Epoch 10, CIFAR-10 Batch 4:  loss: 0.4447314143180847\n",
      "Accuracy: 0.8250000476837158\n",
      "Epoch 10, CIFAR-10 Batch 5:  loss: 0.5208240151405334\n",
      "Accuracy: 0.8250000476837158\n",
      "Epoch 11, CIFAR-10 Batch 1:  loss: 0.7280539274215698\n",
      "Accuracy: 0.75\n",
      "Epoch 11, CIFAR-10 Batch 2:  loss: 0.46543318033218384\n",
      "Accuracy: 0.8999999761581421\n",
      "Epoch 11, CIFAR-10 Batch 3:  loss: 0.41955724358558655\n",
      "Accuracy: 0.8750000596046448\n",
      "Epoch 11, CIFAR-10 Batch 4:  loss: 0.4231233596801758\n",
      "Accuracy: 0.875\n",
      "Epoch 11, CIFAR-10 Batch 5:  loss: 0.4659246802330017\n",
      "Accuracy: 0.8500000834465027\n",
      "Epoch 12, CIFAR-10 Batch 1:  loss: 0.7069493532180786\n",
      "Accuracy: 0.75\n",
      "Epoch 12, CIFAR-10 Batch 2:  loss: 0.40075457096099854\n",
      "Accuracy: 0.9000000357627869\n",
      "Epoch 12, CIFAR-10 Batch 3:  loss: 0.3530150055885315\n",
      "Accuracy: 0.925000011920929\n",
      "Epoch 12, CIFAR-10 Batch 4:  loss: 0.3532010018825531\n",
      "Accuracy: 0.925000011920929\n",
      "Epoch 12, CIFAR-10 Batch 5:  loss: 0.4447806477546692\n",
      "Accuracy: 0.8500000238418579\n",
      "Epoch 13, CIFAR-10 Batch 1:  loss: 0.5956968069076538\n",
      "Accuracy: 0.8500000834465027\n",
      "Epoch 13, CIFAR-10 Batch 2:  loss: 0.3643660545349121\n",
      "Accuracy: 0.925000011920929\n",
      "Epoch 13, CIFAR-10 Batch 3:  loss: 0.2767595648765564\n",
      "Accuracy: 0.949999988079071\n",
      "Epoch 13, CIFAR-10 Batch 4:  loss: 0.34813547134399414\n",
      "Accuracy: 0.925000011920929\n",
      "Epoch 13, CIFAR-10 Batch 5:  loss: 0.43188339471817017\n",
      "Accuracy: 0.8250000476837158\n",
      "Epoch 14, CIFAR-10 Batch 1:  loss: 0.5790234208106995\n",
      "Accuracy: 0.8250000476837158\n",
      "Epoch 14, CIFAR-10 Batch 2:  loss: 0.37470075488090515\n",
      "Accuracy: 0.9000000357627869\n",
      "Epoch 14, CIFAR-10 Batch 3:  loss: 0.28495827317237854\n",
      "Accuracy: 0.925000011920929\n",
      "Epoch 14, CIFAR-10 Batch 4:  loss: 0.30851632356643677\n",
      "Accuracy: 0.9750000238418579\n",
      "Epoch 14, CIFAR-10 Batch 5:  loss: 0.3416636288166046\n",
      "Accuracy: 0.925000011920929\n",
      "Epoch 15, CIFAR-10 Batch 1:  loss: 0.5598455667495728\n",
      "Accuracy: 0.8250000476837158\n",
      "Epoch 15, CIFAR-10 Batch 2:  loss: 0.38412952423095703\n",
      "Accuracy: 0.875\n",
      "Epoch 15, CIFAR-10 Batch 3:  loss: 0.2670547664165497\n",
      "Accuracy: 0.949999988079071\n",
      "Epoch 15, CIFAR-10 Batch 4:  loss: 0.2782287299633026\n",
      "Accuracy: 0.949999988079071\n",
      "Epoch 15, CIFAR-10 Batch 5:  loss: 0.3669203817844391\n",
      "Accuracy: 0.9000000357627869\n",
      "Epoch 16, CIFAR-10 Batch 1:  loss: 0.5774691104888916\n",
      "Accuracy: 0.8500000238418579\n",
      "Epoch 16, CIFAR-10 Batch 2:  loss: 0.29749056696891785\n",
      "Accuracy: 0.949999988079071\n",
      "Epoch 16, CIFAR-10 Batch 3:  loss: 0.22742408514022827\n",
      "Accuracy: 0.949999988079071\n",
      "Epoch 16, CIFAR-10 Batch 4:  loss: 0.2916952967643738\n",
      "Accuracy: 0.925000011920929\n",
      "Epoch 16, CIFAR-10 Batch 5:  loss: 0.3065028786659241\n",
      "Accuracy: 0.9000000357627869\n",
      "Epoch 17, CIFAR-10 Batch 1:  loss: 0.5115980505943298\n",
      "Accuracy: 0.8500000834465027\n",
      "Epoch 17, CIFAR-10 Batch 2:  loss: 0.2784229516983032\n",
      "Accuracy: 0.949999988079071\n",
      "Epoch 17, CIFAR-10 Batch 3:  loss: 0.2103123813867569\n",
      "Accuracy: 0.949999988079071\n",
      "Epoch 17, CIFAR-10 Batch 4:  loss: 0.2888529300689697\n",
      "Accuracy: 0.875\n",
      "Epoch 17, CIFAR-10 Batch 5:  loss: 0.2514508366584778\n",
      "Accuracy: 0.949999988079071\n",
      "Epoch 18, CIFAR-10 Batch 1:  loss: 0.4470522701740265\n",
      "Accuracy: 0.8750000596046448\n",
      "Epoch 18, CIFAR-10 Batch 2:  loss: 0.31774187088012695\n",
      "Accuracy: 0.9000000357627869\n",
      "Epoch 18, CIFAR-10 Batch 3:  loss: 0.22716355323791504\n",
      "Accuracy: 0.9749999642372131\n",
      "Epoch 18, CIFAR-10 Batch 4:  loss: 0.22079035639762878\n",
      "Accuracy: 1.0\n",
      "Epoch 18, CIFAR-10 Batch 5:  loss: 0.28598904609680176\n",
      "Accuracy: 0.9000000357627869\n",
      "Epoch 19, CIFAR-10 Batch 1:  loss: 0.4223983585834503\n",
      "Accuracy: 0.8500000834465027\n",
      "Epoch 19, CIFAR-10 Batch 2:  loss: 0.2880905270576477\n",
      "Accuracy: 0.949999988079071\n",
      "Epoch 19, CIFAR-10 Batch 3:  loss: 0.2447267472743988\n",
      "Accuracy: 0.949999988079071\n",
      "Epoch 19, CIFAR-10 Batch 4:  loss: 0.1918899565935135\n",
      "Accuracy: 0.9750000238418579\n",
      "Epoch 19, CIFAR-10 Batch 5:  loss: 0.2320864051580429\n",
      "Accuracy: 0.925000011920929\n",
      "Epoch 20, CIFAR-10 Batch 1:  loss: 0.41553381085395813\n",
      "Accuracy: 0.8750000596046448\n",
      "Epoch 20, CIFAR-10 Batch 2:  loss: 0.2295411229133606\n",
      "Accuracy: 0.9749999642372131\n",
      "Epoch 20, CIFAR-10 Batch 3:  loss: 0.201750248670578\n",
      "Accuracy: 0.949999988079071\n",
      "Epoch 20, CIFAR-10 Batch 4:  loss: 0.2447836697101593\n",
      "Accuracy: 0.925000011920929\n",
      "Epoch 20, CIFAR-10 Batch 5:  loss: 0.22380702197551727\n",
      "Accuracy: 0.925000011920929\n",
      "Epoch 21, CIFAR-10 Batch 1:  loss: 0.4073195159435272\n",
      "Accuracy: 0.8250000476837158\n",
      "Epoch 21, CIFAR-10 Batch 2:  loss: 0.23911353945732117\n",
      "Accuracy: 0.9749999642372131\n",
      "Epoch 21, CIFAR-10 Batch 3:  loss: 0.17553569376468658\n",
      "Accuracy: 1.0\n",
      "Epoch 21, CIFAR-10 Batch 4:  loss: 0.20244939625263214\n",
      "Accuracy: 0.949999988079071\n",
      "Epoch 21, CIFAR-10 Batch 5:  loss: 0.2045622169971466\n",
      "Accuracy: 0.949999988079071\n",
      "Epoch 22, CIFAR-10 Batch 1:  loss: 0.33235451579093933\n",
      "Accuracy: 0.8750000596046448\n",
      "Epoch 22, CIFAR-10 Batch 2:  loss: 0.18768228590488434\n",
      "Accuracy: 1.0\n",
      "Epoch 22, CIFAR-10 Batch 3:  loss: 0.19311359524726868\n",
      "Accuracy: 0.949999988079071\n",
      "Epoch 22, CIFAR-10 Batch 4:  loss: 0.20224469900131226\n",
      "Accuracy: 0.949999988079071\n",
      "Epoch 22, CIFAR-10 Batch 5:  loss: 0.17215979099273682\n",
      "Accuracy: 0.925000011920929\n",
      "Epoch 23, CIFAR-10 Batch 1:  loss: 0.38905948400497437\n",
      "Accuracy: 0.9000000357627869\n",
      "Epoch 23, CIFAR-10 Batch 2:  loss: 0.19315189123153687\n",
      "Accuracy: 1.0\n",
      "Epoch 23, CIFAR-10 Batch 3:  loss: 0.18430399894714355\n",
      "Accuracy: 1.0\n",
      "Epoch 23, CIFAR-10 Batch 4:  loss: 0.1881941556930542\n",
      "Accuracy: 0.949999988079071\n",
      "Epoch 23, CIFAR-10 Batch 5:  loss: 0.24104133248329163\n",
      "Accuracy: 0.949999988079071\n",
      "Epoch 24, CIFAR-10 Batch 1:  loss: 0.3228643536567688\n",
      "Accuracy: 0.9000000357627869\n",
      "Epoch 24, CIFAR-10 Batch 2:  loss: 0.2230522632598877\n",
      "Accuracy: 0.9749999642372131\n",
      "Epoch 24, CIFAR-10 Batch 3:  loss: 0.14529308676719666\n",
      "Accuracy: 1.0\n",
      "Epoch 24, CIFAR-10 Batch 4:  loss: 0.16563454270362854\n",
      "Accuracy: 0.9749999642372131\n",
      "Epoch 24, CIFAR-10 Batch 5:  loss: 0.19922508299350739\n",
      "Accuracy: 0.949999988079071\n",
      "Epoch 25, CIFAR-10 Batch 1:  loss: 0.3340052664279938\n",
      "Accuracy: 0.8750000596046448\n",
      "Epoch 25, CIFAR-10 Batch 2:  loss: 0.1762697398662567\n",
      "Accuracy: 1.0\n",
      "Epoch 25, CIFAR-10 Batch 3:  loss: 0.17183570563793182\n",
      "Accuracy: 0.9749999642372131\n",
      "Epoch 25, CIFAR-10 Batch 4:  loss: 0.21312198042869568\n",
      "Accuracy: 0.9749999642372131\n",
      "Epoch 25, CIFAR-10 Batch 5:  loss: 0.17798709869384766\n",
      "Accuracy: 0.949999988079071\n",
      "Epoch 26, CIFAR-10 Batch 1:  loss: 0.26935720443725586\n",
      "Accuracy: 0.9000000357627869\n",
      "Epoch 26, CIFAR-10 Batch 2:  loss: 0.14278644323349\n",
      "Accuracy: 0.9750000238418579\n",
      "Epoch 26, CIFAR-10 Batch 3:  loss: 0.12415352463722229\n",
      "Accuracy: 1.0\n",
      "Epoch 26, CIFAR-10 Batch 4:  loss: 0.17470069229602814\n",
      "Accuracy: 0.949999988079071\n",
      "Epoch 26, CIFAR-10 Batch 5:  loss: 0.18017172813415527\n",
      "Accuracy: 0.925000011920929\n",
      "Epoch 27, CIFAR-10 Batch 1:  loss: 0.2890239953994751\n",
      "Accuracy: 0.8750000596046448\n",
      "Epoch 27, CIFAR-10 Batch 2:  loss: 0.15366241335868835\n",
      "Accuracy: 1.0\n",
      "Epoch 27, CIFAR-10 Batch 3:  loss: 0.09250573068857193\n",
      "Accuracy: 1.0\n",
      "Epoch 27, CIFAR-10 Batch 4:  loss: 0.16312791407108307\n",
      "Accuracy: 0.949999988079071\n",
      "Epoch 27, CIFAR-10 Batch 5:  loss: 0.17350035905838013\n",
      "Accuracy: 0.949999988079071\n",
      "Epoch 28, CIFAR-10 Batch 1:  loss: 0.29661455750465393\n",
      "Accuracy: 0.9000000357627869\n",
      "Epoch 28, CIFAR-10 Batch 2:  loss: 0.1808777153491974\n",
      "Accuracy: 1.0\n",
      "Epoch 28, CIFAR-10 Batch 3:  loss: 0.10229505598545074\n",
      "Accuracy: 1.0\n",
      "Epoch 28, CIFAR-10 Batch 4:  loss: 0.1366426944732666\n",
      "Accuracy: 0.9749999642372131\n",
      "Epoch 28, CIFAR-10 Batch 5:  loss: 0.17583930492401123\n",
      "Accuracy: 0.949999988079071\n",
      "Epoch 29, CIFAR-10 Batch 1:  loss: 0.2811543643474579\n",
      "Accuracy: 0.925000011920929\n",
      "Epoch 29, CIFAR-10 Batch 2:  loss: 0.1937055140733719\n",
      "Accuracy: 1.0\n",
      "Epoch 29, CIFAR-10 Batch 3:  loss: 0.10925175249576569\n",
      "Accuracy: 1.0\n",
      "Epoch 29, CIFAR-10 Batch 4:  loss: 0.14947371184825897\n",
      "Accuracy: 0.9749999642372131\n",
      "Epoch 29, CIFAR-10 Batch 5:  loss: 0.1729506254196167\n",
      "Accuracy: 0.925000011920929\n",
      "Epoch 30, CIFAR-10 Batch 1:  loss: 0.23012937605381012\n",
      "Accuracy: 0.9749999642372131\n",
      "Epoch 30, CIFAR-10 Batch 2:  loss: 0.15282222628593445\n",
      "Accuracy: 1.0\n",
      "Epoch 30, CIFAR-10 Batch 3:  loss: 0.10610315203666687\n",
      "Accuracy: 1.0\n",
      "Epoch 30, CIFAR-10 Batch 4:  loss: 0.1356590986251831\n",
      "Accuracy: 0.949999988079071\n",
      "Epoch 30, CIFAR-10 Batch 5:  loss: 0.1867760419845581\n",
      "Accuracy: 0.949999988079071\n",
      "Epoch 31, CIFAR-10 Batch 1:  loss: 0.21764616668224335\n",
      "Accuracy: 0.9000000357627869\n",
      "Epoch 31, CIFAR-10 Batch 2:  loss: 0.11884325742721558\n",
      "Accuracy: 1.0\n",
      "Epoch 31, CIFAR-10 Batch 3:  loss: 0.08796681463718414\n",
      "Accuracy: 1.0\n",
      "Epoch 31, CIFAR-10 Batch 4:  loss: 0.13756448030471802\n",
      "Accuracy: 0.949999988079071\n",
      "Epoch 31, CIFAR-10 Batch 5:  loss: 0.15518790483474731\n",
      "Accuracy: 0.949999988079071\n",
      "Epoch 32, CIFAR-10 Batch 1:  loss: 0.22965970635414124\n",
      "Accuracy: 0.949999988079071\n",
      "Epoch 32, CIFAR-10 Batch 2:  loss: 0.16186784207820892\n",
      "Accuracy: 0.949999988079071\n",
      "Epoch 32, CIFAR-10 Batch 3:  loss: 0.107900470495224\n",
      "Accuracy: 1.0\n",
      "Epoch 32, CIFAR-10 Batch 4:  loss: 0.1258252114057541\n",
      "Accuracy: 0.9749999642372131\n",
      "Epoch 32, CIFAR-10 Batch 5:  loss: 0.18011578917503357\n",
      "Accuracy: 0.875\n"
     ]
    }
   ],
   "source": [
    "\"\"\"\n",
    "DON'T MODIFY ANYTHING IN THIS CELL\n",
    "\"\"\"\n",
    "save_model_path = './image_classification'\n",
    "\n",
    "print('Training...')\n",
    "with tf.Session() as sess:\n",
    "    # Initializing the variables\n",
    "    sess.run(tf.global_variables_initializer())\n",
    "    \n",
    "    # Training cycle\n",
    "    for epoch in range(epochs):\n",
    "        # Loop over all batches\n",
    "        n_batches = 5\n",
    "        for batch_i in range(1, n_batches + 1):\n",
    "            for batch_features, batch_labels in helper.load_preprocess_training_batch(batch_i, batch_size):\n",
    "                train_neural_network(sess, optimizer, keep_probability, batch_features, batch_labels)\n",
    "            print('Epoch {:>2}, CIFAR-10 Batch {}:  '.format(epoch + 1, batch_i), end='')\n",
    "            print_stats(sess, batch_features, batch_labels, cost, accuracy)\n",
    "            \n",
    "    # Save Model\n",
    "    saver = tf.train.Saver()\n",
    "    save_path = saver.save(sess, save_model_path)"
   ]
  },
  {
   "cell_type": "markdown",
   "metadata": {
    "deletable": true,
    "editable": true
   },
   "source": [
    "# Checkpoint\n",
    "The model has been saved to disk.\n",
    "## Test Model\n",
    "Test your model against the test dataset.  This will be your final accuracy. You should have an accuracy greater than 50%. If you don't, keep tweaking the model architecture and parameters."
   ]
  },
  {
   "cell_type": "code",
   "execution_count": 28,
   "metadata": {
    "collapsed": false,
    "deletable": true,
    "editable": true
   },
   "outputs": [
    {
     "name": "stdout",
     "output_type": "stream",
     "text": [
      "Testing Accuracy: 0.654568829113924\n",
      "\n"
     ]
    },
    {
     "data": {
      "image/png": "[encoded data removed]",
      "text/plain": [
       "<matplotlib.figure.Figure at 0x7f27294ba0f0>"
      ]
     },
     "metadata": {
      "image/png": {
       "height": 319,
       "width": 355
      }
     },
     "output_type": "display_data"
    }
   ],
   "source": [
    "\"\"\"\n",
    "DON'T MODIFY ANYTHING IN THIS CELL\n",
    "\"\"\"\n",
    "%matplotlib inline\n",
    "%config InlineBackend.figure_format = 'retina'\n",
    "\n",
    "import tensorflow as tf\n",
    "import pickle\n",
    "import helper\n",
    "import random\n",
    "\n",
    "# Set batch size if not already set\n",
    "try:\n",
    "    if batch_size:\n",
    "        pass\n",
    "except NameError:\n",
    "    batch_size = 64\n",
    "\n",
    "save_model_path = './image_classification'\n",
    "n_samples = 4\n",
    "top_n_predictions = 3\n",
    "\n",
    "def test_model():\n",
    "    \"\"\"\n",
    "    Test the saved model against the test dataset\n",
    "    \"\"\"\n",
    "\n",
    "    test_features, test_labels = pickle.load(open('preprocess_training.p', mode='rb'))\n",
    "    loaded_graph = tf.Graph()\n",
    "\n",
    "    with tf.Session(graph=loaded_graph) as sess:\n",
    "        # Load model\n",
    "        loader = tf.train.import_meta_graph(save_model_path + '.meta')\n",
    "        loader.restore(sess, save_model_path)\n",
    "\n",
    "        # Get Tensors from loaded model\n",
    "        loaded_x = loaded_graph.get_tensor_by_name('x:0')\n",
    "        loaded_y = loaded_graph.get_tensor_by_name('y:0')\n",
    "        loaded_keep_prob = loaded_graph.get_tensor_by_name('keep_prob:0')\n",
    "        loaded_logits = loaded_graph.get_tensor_by_name('logits:0')\n",
    "        loaded_acc = loaded_graph.get_tensor_by_name('accuracy:0')\n",
    "        \n",
    "        # Get accuracy in batches for memory limitations\n",
    "        test_batch_acc_total = 0\n",
    "        test_batch_count = 0\n",
    "        \n",
    "        for train_feature_batch, train_label_batch in helper.batch_features_labels(test_features, test_labels, batch_size):\n",
    "            test_batch_acc_total += sess.run(\n",
    "                loaded_acc,\n",
    "                feed_dict={loaded_x: train_feature_batch, loaded_y: train_label_batch, loaded_keep_prob: 1.0})\n",
    "            test_batch_count += 1\n",
    "\n",
    "        print('Testing Accuracy: {}\\n'.format(test_batch_acc_total/test_batch_count))\n",
    "\n",
    "        # Print Random Samples\n",
    "        random_test_features, random_test_labels = tuple(zip(*random.sample(list(zip(test_features, test_labels)), n_samples)))\n",
    "        random_test_predictions = sess.run(\n",
    "            tf.nn.top_k(tf.nn.softmax(loaded_logits), top_n_predictions),\n",
    "            feed_dict={loaded_x: random_test_features, loaded_y: random_test_labels, loaded_keep_prob: 1.0})\n",
    "        helper.display_image_predictions(random_test_features, random_test_labels, random_test_predictions)\n",
    "\n",
    "\n",
    "test_model()"
   ]
  },
  {
   "cell_type": "markdown",
   "metadata": {
    "deletable": true,
    "editable": true
   },
   "source": [
    "## Why 50-70% Accuracy?\n",
    "You might be wondering why you can't get an accuracy any higher. First things first, 50% isn't bad for a simple CNN.  Pure guessing would get you 10% accuracy. However, you might notice people are getting scores [well above 70%](http://rodrigob.github.io/are_we_there_yet/build/classification_datasets_results.html#43494641522d3130).  That's because we haven't taught you all there is to know about neural networks. We still need to cover a few more techniques.\n",
    "## Submitting This Project\n",
    "When submitting this project, make sure to run all the cells before saving the notebook.  Save the notebook file as \"dlnd_image_classification.ipynb\" and save it as a HTML file under \"File\" -> \"Download as\".  Include the \"helper.py\" and \"problem_unittests.py\" files in your submission."
   ]
  }
 ],
 "metadata": {
  "kernelspec": {
   "display_name": "Python 3",
   "language": "python",
   "name": "python3"
  },
  "language_info": {
   "codemirror_mode": {
    "name": "ipython",
    "version": 3
   },
   "file_extension": ".py",
   "mimetype": "text/x-python",
   "name": "python",
   "nbconvert_exporter": "python",
   "pygments_lexer": "ipython3",
   "version": "3.5.3"
  }
 },
 "nbformat": 4,
 "nbformat_minor": 0
}
